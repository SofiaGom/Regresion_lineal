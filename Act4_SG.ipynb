{
  "nbformat": 4,
  "nbformat_minor": 0,
  "metadata": {
    "colab": {
      "provenance": [],
      "include_colab_link": true
    },
    "kernelspec": {
      "name": "python3",
      "display_name": "Python 3"
    },
    "language_info": {
      "name": "python"
    }
  },
  "cells": [
    {
      "cell_type": "markdown",
      "metadata": {
        "id": "view-in-github",
        "colab_type": "text"
      },
      "source": [
        "<a href=\"https://colab.research.google.com/github/SofiaGom/Regresion_lineal/blob/main/Act4_SG.ipynb\" target=\"_parent\"><img src=\"https://colab.research.google.com/assets/colab-badge.svg\" alt=\"Open In Colab\"/></a>"
      ]
    },
    {
      "cell_type": "code",
      "execution_count": null,
      "metadata": {
        "id": "aI_rx5v6uR9B"
      },
      "outputs": [],
      "source": [
        "#importo las librerías necesarias\n",
        "import pandas as pd\n",
        "import numpy as np\n",
        "import matplotlib.pyplot as plt\n",
        "import seaborn as sns"
      ]
    },
    {
      "cell_type": "code",
      "source": [
        "#abro el archivo\n",
        "df = pd.read_csv(\"/content/DF_Mexico.csv\")\n",
        "df.head(5)"
      ],
      "metadata": {
        "id": "sCOTSlsWwbZf",
        "colab": {
          "base_uri": "https://localhost:8080/",
          "height": 568
        },
        "outputId": "dace90d9-0396-450f-aaba-1edabcf7674c"
      },
      "execution_count": null,
      "outputs": [
        {
          "output_type": "execute_result",
          "data": {
            "text/plain": [
              "        id                           listing_url       scrape_id last_scraped  \\\n",
              "0  2056638  https://www.airbnb.com/rooms/2056638  20230329041210   2023-03-30   \n",
              "1  2072354  https://www.airbnb.com/rooms/2072354  20230329041210   2023-03-30   \n",
              "2   696037   https://www.airbnb.com/rooms/696037  20230329041210   2023-03-29   \n",
              "3    35797    https://www.airbnb.com/rooms/35797  20230329041210   2023-03-29   \n",
              "4    44616    https://www.airbnb.com/rooms/44616  20230329041210   2023-03-30   \n",
              "\n",
              "        source                                               name  \\\n",
              "0  city scrape                 Amplio y luminoso loft en Coyoacán   \n",
              "1  city scrape                 Coyoacan Historic Studio Apartment   \n",
              "2  city scrape  3 Bedrooms, 2 blocks from Polanco - ALL RENOVA...   \n",
              "3  city scrape                                        Villa Dante   \n",
              "4  city scrape                                  CONDESA HAUS  B&B   \n",
              "\n",
              "                                         description  \\\n",
              "0  Cómodo loft de dos pisos magníficamente ubicad...   \n",
              "1  This studio flat is adjacent to the owner's ho...   \n",
              "2  Beautifully decorated 3 bedroom apartment, it ...   \n",
              "3  Dentro de Villa un estudio de arte con futon, ...   \n",
              "4  A new concept of hosting in mexico through a b...   \n",
              "\n",
              "                               neighborhood_overview  \\\n",
              "0                                                NaN   \n",
              "1  Located in Coyoacan, in a quiet neighborhood w...   \n",
              "2  This area is called Nuevo Polanco, it has bein...   \n",
              "3  Centro comercial Santa Fe, parque interlomas y...   \n",
              "4                                                NaN   \n",
              "\n",
              "                                         picture_url   host_id  ...  \\\n",
              "0  https://a0.muscache.com/pictures/28353712/4379...  10531228  ...   \n",
              "1  https://a0.muscache.com/pictures/369f3371-593a...  16840050  ...   \n",
              "2  https://a0.muscache.com/pictures/10960397/67b2...   3531879  ...   \n",
              "3  https://a0.muscache.com/pictures/f395ab78-1185...    153786  ...   \n",
              "4  https://a0.muscache.com/pictures/251410/ec75fe...    196253  ...   \n",
              "\n",
              "  review_scores_communication review_scores_location review_scores_value  \\\n",
              "0                        4.95                   5.00                4.86   \n",
              "1                        5.00                   4.95                4.84   \n",
              "2                        4.92                   4.58                4.71   \n",
              "3                         NaN                    NaN                 NaN   \n",
              "4                        4.78                   4.98                4.48   \n",
              "\n",
              "  license instant_bookable calculated_host_listings_count  \\\n",
              "0     NaN                f                              3   \n",
              "1     NaN                f                              2   \n",
              "2     NaN                f                              3   \n",
              "3     NaN                f                              1   \n",
              "4     NaN                f                             12   \n",
              "\n",
              "  calculated_host_listings_count_entire_homes  \\\n",
              "0                                           3   \n",
              "1                                           2   \n",
              "2                                           3   \n",
              "3                                           1   \n",
              "4                                           3   \n",
              "\n",
              "  calculated_host_listings_count_private_rooms  \\\n",
              "0                                            0   \n",
              "1                                            0   \n",
              "2                                            0   \n",
              "3                                            0   \n",
              "4                                            2   \n",
              "\n",
              "  calculated_host_listings_count_shared_rooms reviews_per_month  \n",
              "0                                           0              0.19  \n",
              "1                                           0              0.54  \n",
              "2                                           0              0.31  \n",
              "3                                           0               NaN  \n",
              "4                                           0              0.46  \n",
              "\n",
              "[5 rows x 75 columns]"
            ],
            "text/html": [
              "\n",
              "  <div id=\"df-8e7db84e-3eb3-4a28-9327-005521b789f0\" class=\"colab-df-container\">\n",
              "    <div>\n",
              "<style scoped>\n",
              "    .dataframe tbody tr th:only-of-type {\n",
              "        vertical-align: middle;\n",
              "    }\n",
              "\n",
              "    .dataframe tbody tr th {\n",
              "        vertical-align: top;\n",
              "    }\n",
              "\n",
              "    .dataframe thead th {\n",
              "        text-align: right;\n",
              "    }\n",
              "</style>\n",
              "<table border=\"1\" class=\"dataframe\">\n",
              "  <thead>\n",
              "    <tr style=\"text-align: right;\">\n",
              "      <th></th>\n",
              "      <th>id</th>\n",
              "      <th>listing_url</th>\n",
              "      <th>scrape_id</th>\n",
              "      <th>last_scraped</th>\n",
              "      <th>source</th>\n",
              "      <th>name</th>\n",
              "      <th>description</th>\n",
              "      <th>neighborhood_overview</th>\n",
              "      <th>picture_url</th>\n",
              "      <th>host_id</th>\n",
              "      <th>...</th>\n",
              "      <th>review_scores_communication</th>\n",
              "      <th>review_scores_location</th>\n",
              "      <th>review_scores_value</th>\n",
              "      <th>license</th>\n",
              "      <th>instant_bookable</th>\n",
              "      <th>calculated_host_listings_count</th>\n",
              "      <th>calculated_host_listings_count_entire_homes</th>\n",
              "      <th>calculated_host_listings_count_private_rooms</th>\n",
              "      <th>calculated_host_listings_count_shared_rooms</th>\n",
              "      <th>reviews_per_month</th>\n",
              "    </tr>\n",
              "  </thead>\n",
              "  <tbody>\n",
              "    <tr>\n",
              "      <th>0</th>\n",
              "      <td>2056638</td>\n",
              "      <td>https://www.airbnb.com/rooms/2056638</td>\n",
              "      <td>20230329041210</td>\n",
              "      <td>2023-03-30</td>\n",
              "      <td>city scrape</td>\n",
              "      <td>Amplio y luminoso loft en Coyoacán</td>\n",
              "      <td>Cómodo loft de dos pisos magníficamente ubicad...</td>\n",
              "      <td>NaN</td>\n",
              "      <td>https://a0.muscache.com/pictures/28353712/4379...</td>\n",
              "      <td>10531228</td>\n",
              "      <td>...</td>\n",
              "      <td>4.95</td>\n",
              "      <td>5.00</td>\n",
              "      <td>4.86</td>\n",
              "      <td>NaN</td>\n",
              "      <td>f</td>\n",
              "      <td>3</td>\n",
              "      <td>3</td>\n",
              "      <td>0</td>\n",
              "      <td>0</td>\n",
              "      <td>0.19</td>\n",
              "    </tr>\n",
              "    <tr>\n",
              "      <th>1</th>\n",
              "      <td>2072354</td>\n",
              "      <td>https://www.airbnb.com/rooms/2072354</td>\n",
              "      <td>20230329041210</td>\n",
              "      <td>2023-03-30</td>\n",
              "      <td>city scrape</td>\n",
              "      <td>Coyoacan Historic Studio Apartment</td>\n",
              "      <td>This studio flat is adjacent to the owner's ho...</td>\n",
              "      <td>Located in Coyoacan, in a quiet neighborhood w...</td>\n",
              "      <td>https://a0.muscache.com/pictures/369f3371-593a...</td>\n",
              "      <td>16840050</td>\n",
              "      <td>...</td>\n",
              "      <td>5.00</td>\n",
              "      <td>4.95</td>\n",
              "      <td>4.84</td>\n",
              "      <td>NaN</td>\n",
              "      <td>f</td>\n",
              "      <td>2</td>\n",
              "      <td>2</td>\n",
              "      <td>0</td>\n",
              "      <td>0</td>\n",
              "      <td>0.54</td>\n",
              "    </tr>\n",
              "    <tr>\n",
              "      <th>2</th>\n",
              "      <td>696037</td>\n",
              "      <td>https://www.airbnb.com/rooms/696037</td>\n",
              "      <td>20230329041210</td>\n",
              "      <td>2023-03-29</td>\n",
              "      <td>city scrape</td>\n",
              "      <td>3 Bedrooms, 2 blocks from Polanco - ALL RENOVA...</td>\n",
              "      <td>Beautifully decorated 3 bedroom apartment, it ...</td>\n",
              "      <td>This area is called Nuevo Polanco, it has bein...</td>\n",
              "      <td>https://a0.muscache.com/pictures/10960397/67b2...</td>\n",
              "      <td>3531879</td>\n",
              "      <td>...</td>\n",
              "      <td>4.92</td>\n",
              "      <td>4.58</td>\n",
              "      <td>4.71</td>\n",
              "      <td>NaN</td>\n",
              "      <td>f</td>\n",
              "      <td>3</td>\n",
              "      <td>3</td>\n",
              "      <td>0</td>\n",
              "      <td>0</td>\n",
              "      <td>0.31</td>\n",
              "    </tr>\n",
              "    <tr>\n",
              "      <th>3</th>\n",
              "      <td>35797</td>\n",
              "      <td>https://www.airbnb.com/rooms/35797</td>\n",
              "      <td>20230329041210</td>\n",
              "      <td>2023-03-29</td>\n",
              "      <td>city scrape</td>\n",
              "      <td>Villa Dante</td>\n",
              "      <td>Dentro de Villa un estudio de arte con futon, ...</td>\n",
              "      <td>Centro comercial Santa Fe, parque interlomas y...</td>\n",
              "      <td>https://a0.muscache.com/pictures/f395ab78-1185...</td>\n",
              "      <td>153786</td>\n",
              "      <td>...</td>\n",
              "      <td>NaN</td>\n",
              "      <td>NaN</td>\n",
              "      <td>NaN</td>\n",
              "      <td>NaN</td>\n",
              "      <td>f</td>\n",
              "      <td>1</td>\n",
              "      <td>1</td>\n",
              "      <td>0</td>\n",
              "      <td>0</td>\n",
              "      <td>NaN</td>\n",
              "    </tr>\n",
              "    <tr>\n",
              "      <th>4</th>\n",
              "      <td>44616</td>\n",
              "      <td>https://www.airbnb.com/rooms/44616</td>\n",
              "      <td>20230329041210</td>\n",
              "      <td>2023-03-30</td>\n",
              "      <td>city scrape</td>\n",
              "      <td>CONDESA HAUS  B&amp;B</td>\n",
              "      <td>A new concept of hosting in mexico through a b...</td>\n",
              "      <td>NaN</td>\n",
              "      <td>https://a0.muscache.com/pictures/251410/ec75fe...</td>\n",
              "      <td>196253</td>\n",
              "      <td>...</td>\n",
              "      <td>4.78</td>\n",
              "      <td>4.98</td>\n",
              "      <td>4.48</td>\n",
              "      <td>NaN</td>\n",
              "      <td>f</td>\n",
              "      <td>12</td>\n",
              "      <td>3</td>\n",
              "      <td>2</td>\n",
              "      <td>0</td>\n",
              "      <td>0.46</td>\n",
              "    </tr>\n",
              "  </tbody>\n",
              "</table>\n",
              "<p>5 rows × 75 columns</p>\n",
              "</div>\n",
              "    <div class=\"colab-df-buttons\">\n",
              "\n",
              "  <div class=\"colab-df-container\">\n",
              "    <button class=\"colab-df-convert\" onclick=\"convertToInteractive('df-8e7db84e-3eb3-4a28-9327-005521b789f0')\"\n",
              "            title=\"Convert this dataframe to an interactive table.\"\n",
              "            style=\"display:none;\">\n",
              "\n",
              "  <svg xmlns=\"http://www.w3.org/2000/svg\" height=\"24px\" viewBox=\"0 -960 960 960\">\n",
              "    <path d=\"M120-120v-720h720v720H120Zm60-500h600v-160H180v160Zm220 220h160v-160H400v160Zm0 220h160v-160H400v160ZM180-400h160v-160H180v160Zm440 0h160v-160H620v160ZM180-180h160v-160H180v160Zm440 0h160v-160H620v160Z\"/>\n",
              "  </svg>\n",
              "    </button>\n",
              "\n",
              "  <style>\n",
              "    .colab-df-container {\n",
              "      display:flex;\n",
              "      gap: 12px;\n",
              "    }\n",
              "\n",
              "    .colab-df-convert {\n",
              "      background-color: #E8F0FE;\n",
              "      border: none;\n",
              "      border-radius: 50%;\n",
              "      cursor: pointer;\n",
              "      display: none;\n",
              "      fill: #1967D2;\n",
              "      height: 32px;\n",
              "      padding: 0 0 0 0;\n",
              "      width: 32px;\n",
              "    }\n",
              "\n",
              "    .colab-df-convert:hover {\n",
              "      background-color: #E2EBFA;\n",
              "      box-shadow: 0px 1px 2px rgba(60, 64, 67, 0.3), 0px 1px 3px 1px rgba(60, 64, 67, 0.15);\n",
              "      fill: #174EA6;\n",
              "    }\n",
              "\n",
              "    .colab-df-buttons div {\n",
              "      margin-bottom: 4px;\n",
              "    }\n",
              "\n",
              "    [theme=dark] .colab-df-convert {\n",
              "      background-color: #3B4455;\n",
              "      fill: #D2E3FC;\n",
              "    }\n",
              "\n",
              "    [theme=dark] .colab-df-convert:hover {\n",
              "      background-color: #434B5C;\n",
              "      box-shadow: 0px 1px 3px 1px rgba(0, 0, 0, 0.15);\n",
              "      filter: drop-shadow(0px 1px 2px rgba(0, 0, 0, 0.3));\n",
              "      fill: #FFFFFF;\n",
              "    }\n",
              "  </style>\n",
              "\n",
              "    <script>\n",
              "      const buttonEl =\n",
              "        document.querySelector('#df-8e7db84e-3eb3-4a28-9327-005521b789f0 button.colab-df-convert');\n",
              "      buttonEl.style.display =\n",
              "        google.colab.kernel.accessAllowed ? 'block' : 'none';\n",
              "\n",
              "      async function convertToInteractive(key) {\n",
              "        const element = document.querySelector('#df-8e7db84e-3eb3-4a28-9327-005521b789f0');\n",
              "        const dataTable =\n",
              "          await google.colab.kernel.invokeFunction('convertToInteractive',\n",
              "                                                    [key], {});\n",
              "        if (!dataTable) return;\n",
              "\n",
              "        const docLinkHtml = 'Like what you see? Visit the ' +\n",
              "          '<a target=\"_blank\" href=https://colab.research.google.com/notebooks/data_table.ipynb>data table notebook</a>'\n",
              "          + ' to learn more about interactive tables.';\n",
              "        element.innerHTML = '';\n",
              "        dataTable['output_type'] = 'display_data';\n",
              "        await google.colab.output.renderOutput(dataTable, element);\n",
              "        const docLink = document.createElement('div');\n",
              "        docLink.innerHTML = docLinkHtml;\n",
              "        element.appendChild(docLink);\n",
              "      }\n",
              "    </script>\n",
              "  </div>\n",
              "\n",
              "\n",
              "<div id=\"df-316007c0-85ae-415a-8b7a-71c75aca21e1\">\n",
              "  <button class=\"colab-df-quickchart\" onclick=\"quickchart('df-316007c0-85ae-415a-8b7a-71c75aca21e1')\"\n",
              "            title=\"Suggest charts.\"\n",
              "            style=\"display:none;\">\n",
              "\n",
              "<svg xmlns=\"http://www.w3.org/2000/svg\" height=\"24px\"viewBox=\"0 0 24 24\"\n",
              "     width=\"24px\">\n",
              "    <g>\n",
              "        <path d=\"M19 3H5c-1.1 0-2 .9-2 2v14c0 1.1.9 2 2 2h14c1.1 0 2-.9 2-2V5c0-1.1-.9-2-2-2zM9 17H7v-7h2v7zm4 0h-2V7h2v10zm4 0h-2v-4h2v4z\"/>\n",
              "    </g>\n",
              "</svg>\n",
              "  </button>\n",
              "\n",
              "<style>\n",
              "  .colab-df-quickchart {\n",
              "      --bg-color: #E8F0FE;\n",
              "      --fill-color: #1967D2;\n",
              "      --hover-bg-color: #E2EBFA;\n",
              "      --hover-fill-color: #174EA6;\n",
              "      --disabled-fill-color: #AAA;\n",
              "      --disabled-bg-color: #DDD;\n",
              "  }\n",
              "\n",
              "  [theme=dark] .colab-df-quickchart {\n",
              "      --bg-color: #3B4455;\n",
              "      --fill-color: #D2E3FC;\n",
              "      --hover-bg-color: #434B5C;\n",
              "      --hover-fill-color: #FFFFFF;\n",
              "      --disabled-bg-color: #3B4455;\n",
              "      --disabled-fill-color: #666;\n",
              "  }\n",
              "\n",
              "  .colab-df-quickchart {\n",
              "    background-color: var(--bg-color);\n",
              "    border: none;\n",
              "    border-radius: 50%;\n",
              "    cursor: pointer;\n",
              "    display: none;\n",
              "    fill: var(--fill-color);\n",
              "    height: 32px;\n",
              "    padding: 0;\n",
              "    width: 32px;\n",
              "  }\n",
              "\n",
              "  .colab-df-quickchart:hover {\n",
              "    background-color: var(--hover-bg-color);\n",
              "    box-shadow: 0 1px 2px rgba(60, 64, 67, 0.3), 0 1px 3px 1px rgba(60, 64, 67, 0.15);\n",
              "    fill: var(--button-hover-fill-color);\n",
              "  }\n",
              "\n",
              "  .colab-df-quickchart-complete:disabled,\n",
              "  .colab-df-quickchart-complete:disabled:hover {\n",
              "    background-color: var(--disabled-bg-color);\n",
              "    fill: var(--disabled-fill-color);\n",
              "    box-shadow: none;\n",
              "  }\n",
              "\n",
              "  .colab-df-spinner {\n",
              "    border: 2px solid var(--fill-color);\n",
              "    border-color: transparent;\n",
              "    border-bottom-color: var(--fill-color);\n",
              "    animation:\n",
              "      spin 1s steps(1) infinite;\n",
              "  }\n",
              "\n",
              "  @keyframes spin {\n",
              "    0% {\n",
              "      border-color: transparent;\n",
              "      border-bottom-color: var(--fill-color);\n",
              "      border-left-color: var(--fill-color);\n",
              "    }\n",
              "    20% {\n",
              "      border-color: transparent;\n",
              "      border-left-color: var(--fill-color);\n",
              "      border-top-color: var(--fill-color);\n",
              "    }\n",
              "    30% {\n",
              "      border-color: transparent;\n",
              "      border-left-color: var(--fill-color);\n",
              "      border-top-color: var(--fill-color);\n",
              "      border-right-color: var(--fill-color);\n",
              "    }\n",
              "    40% {\n",
              "      border-color: transparent;\n",
              "      border-right-color: var(--fill-color);\n",
              "      border-top-color: var(--fill-color);\n",
              "    }\n",
              "    60% {\n",
              "      border-color: transparent;\n",
              "      border-right-color: var(--fill-color);\n",
              "    }\n",
              "    80% {\n",
              "      border-color: transparent;\n",
              "      border-right-color: var(--fill-color);\n",
              "      border-bottom-color: var(--fill-color);\n",
              "    }\n",
              "    90% {\n",
              "      border-color: transparent;\n",
              "      border-bottom-color: var(--fill-color);\n",
              "    }\n",
              "  }\n",
              "</style>\n",
              "\n",
              "  <script>\n",
              "    async function quickchart(key) {\n",
              "      const quickchartButtonEl =\n",
              "        document.querySelector('#' + key + ' button');\n",
              "      quickchartButtonEl.disabled = true;  // To prevent multiple clicks.\n",
              "      quickchartButtonEl.classList.add('colab-df-spinner');\n",
              "      try {\n",
              "        const charts = await google.colab.kernel.invokeFunction(\n",
              "            'suggestCharts', [key], {});\n",
              "      } catch (error) {\n",
              "        console.error('Error during call to suggestCharts:', error);\n",
              "      }\n",
              "      quickchartButtonEl.classList.remove('colab-df-spinner');\n",
              "      quickchartButtonEl.classList.add('colab-df-quickchart-complete');\n",
              "    }\n",
              "    (() => {\n",
              "      let quickchartButtonEl =\n",
              "        document.querySelector('#df-316007c0-85ae-415a-8b7a-71c75aca21e1 button');\n",
              "      quickchartButtonEl.style.display =\n",
              "        google.colab.kernel.accessAllowed ? 'block' : 'none';\n",
              "    })();\n",
              "  </script>\n",
              "</div>\n",
              "    </div>\n",
              "  </div>\n"
            ]
          },
          "metadata": {},
          "execution_count": 350
        }
      ]
    },
    {
      "cell_type": "code",
      "source": [
        "df.info()"
      ],
      "metadata": {
        "id": "4BHuXjYAw3Bx",
        "colab": {
          "base_uri": "https://localhost:8080/"
        },
        "outputId": "166bcc6c-9b16-45a5-d48f-923336e13f64"
      },
      "execution_count": null,
      "outputs": [
        {
          "output_type": "stream",
          "name": "stdout",
          "text": [
            "<class 'pandas.core.frame.DataFrame'>\n",
            "RangeIndex: 24224 entries, 0 to 24223\n",
            "Data columns (total 75 columns):\n",
            " #   Column                                        Non-Null Count  Dtype  \n",
            "---  ------                                        --------------  -----  \n",
            " 0   id                                            24224 non-null  int64  \n",
            " 1   listing_url                                   24224 non-null  object \n",
            " 2   scrape_id                                     24224 non-null  int64  \n",
            " 3   last_scraped                                  24224 non-null  object \n",
            " 4   source                                        24224 non-null  object \n",
            " 5   name                                          24223 non-null  object \n",
            " 6   description                                   23296 non-null  object \n",
            " 7   neighborhood_overview                         15145 non-null  object \n",
            " 8   picture_url                                   24224 non-null  object \n",
            " 9   host_id                                       24224 non-null  int64  \n",
            " 10  host_url                                      24224 non-null  object \n",
            " 11  host_name                                     24224 non-null  object \n",
            " 12  host_since                                    24224 non-null  object \n",
            " 13  host_location                                 19052 non-null  object \n",
            " 14  host_about                                    13560 non-null  object \n",
            " 15  host_response_time                            21133 non-null  object \n",
            " 16  host_response_rate                            21133 non-null  object \n",
            " 17  host_acceptance_rate                          22181 non-null  object \n",
            " 18  host_is_superhost                             24219 non-null  object \n",
            " 19  host_thumbnail_url                            24224 non-null  object \n",
            " 20  host_picture_url                              24224 non-null  object \n",
            " 21  host_neighbourhood                            11823 non-null  object \n",
            " 22  host_listings_count                           24224 non-null  int64  \n",
            " 23  host_total_listings_count                     24224 non-null  int64  \n",
            " 24  host_verifications                            24224 non-null  object \n",
            " 25  host_has_profile_pic                          24224 non-null  object \n",
            " 26  host_identity_verified                        24224 non-null  object \n",
            " 27  neighbourhood                                 15145 non-null  object \n",
            " 28  neighbourhood_cleansed                        24224 non-null  object \n",
            " 29  neighbourhood_group_cleansed                  0 non-null      float64\n",
            " 30  latitude                                      24224 non-null  float64\n",
            " 31  longitude                                     24224 non-null  float64\n",
            " 32  property_type                                 24224 non-null  object \n",
            " 33  room_type                                     24224 non-null  object \n",
            " 34  accommodates                                  24224 non-null  int64  \n",
            " 35  bathrooms                                     0 non-null      float64\n",
            " 36  bathrooms_text                                24194 non-null  object \n",
            " 37  bedrooms                                      23669 non-null  float64\n",
            " 38  beds                                          23953 non-null  float64\n",
            " 39  amenities                                     24224 non-null  object \n",
            " 40  price                                         24224 non-null  object \n",
            " 41  minimum_nights                                24224 non-null  int64  \n",
            " 42  maximum_nights                                24224 non-null  int64  \n",
            " 43  minimum_minimum_nights                        24223 non-null  float64\n",
            " 44  maximum_minimum_nights                        24223 non-null  float64\n",
            " 45  minimum_maximum_nights                        24223 non-null  float64\n",
            " 46  maximum_maximum_nights                        24223 non-null  float64\n",
            " 47  minimum_nights_avg_ntm                        24223 non-null  float64\n",
            " 48  maximum_nights_avg_ntm                        24223 non-null  float64\n",
            " 49  calendar_updated                              0 non-null      float64\n",
            " 50  has_availability                              24224 non-null  object \n",
            " 51  availability_30                               24224 non-null  int64  \n",
            " 52  availability_60                               24224 non-null  int64  \n",
            " 53  availability_90                               24224 non-null  int64  \n",
            " 54  availability_365                              24224 non-null  int64  \n",
            " 55  calendar_last_scraped                         24224 non-null  object \n",
            " 56  number_of_reviews                             24224 non-null  int64  \n",
            " 57  number_of_reviews_ltm                         24224 non-null  int64  \n",
            " 58  number_of_reviews_l30d                        24224 non-null  int64  \n",
            " 59  first_review                                  20628 non-null  object \n",
            " 60  last_review                                   20628 non-null  object \n",
            " 61  review_scores_rating                          20628 non-null  float64\n",
            " 62  review_scores_accuracy                        20572 non-null  float64\n",
            " 63  review_scores_cleanliness                     20573 non-null  float64\n",
            " 64  review_scores_checkin                         20572 non-null  float64\n",
            " 65  review_scores_communication                   20572 non-null  float64\n",
            " 66  review_scores_location                        20571 non-null  float64\n",
            " 67  review_scores_value                           20571 non-null  float64\n",
            " 68  license                                       0 non-null      float64\n",
            " 69  instant_bookable                              24224 non-null  object \n",
            " 70  calculated_host_listings_count                24224 non-null  int64  \n",
            " 71  calculated_host_listings_count_entire_homes   24224 non-null  int64  \n",
            " 72  calculated_host_listings_count_private_rooms  24224 non-null  int64  \n",
            " 73  calculated_host_listings_count_shared_rooms   24224 non-null  int64  \n",
            " 74  reviews_per_month                             20628 non-null  float64\n",
            "dtypes: float64(22), int64(19), object(34)\n",
            "memory usage: 13.9+ MB\n"
          ]
        }
      ]
    },
    {
      "cell_type": "code",
      "source": [
        "#df.isnull().sum()"
      ],
      "metadata": {
        "id": "4DzbzGISxHRK"
      },
      "execution_count": null,
      "outputs": []
    },
    {
      "cell_type": "code",
      "source": [
        "#elimino las columnas que son 0\n",
        "columnas = ['neighbourhood_group_cleansed','bathrooms', 'calendar_updated','license' ]\n",
        "df = df.drop(columns = columnas)"
      ],
      "metadata": {
        "id": "V2LnCvfUxV7F"
      },
      "execution_count": null,
      "outputs": []
    },
    {
      "cell_type": "markdown",
      "source": [
        "#Nulos"
      ],
      "metadata": {
        "id": "a1SBRkjQavex"
      }
    },
    {
      "cell_type": "code",
      "source": [
        "#sustituir nulos\n",
        "df1=df.fillna(method=\"bfill\")\n",
        "df1=df.fillna(method=\"ffill\")"
      ],
      "metadata": {
        "id": "YJ1sZfo12lJv"
      },
      "execution_count": null,
      "outputs": []
    },
    {
      "cell_type": "code",
      "source": [
        "#sustituyo para que no afecte posteriormente el tipo de dato\n",
        "df1[\"host_response_rate\"]= df1[\"host_response_rate\"].replace(\"%\",\"\",regex=True).astype(float)\n",
        "df1[\"host_acceptance_rate\"]= df1[\"host_acceptance_rate\"].replace(\"%\",\"\",regex=True).astype(float)\n",
        "df1[\"price\"] = df1[\"price\"].str.replace('$', '').str.replace(',', '').astype(float)"
      ],
      "metadata": {
        "colab": {
          "base_uri": "https://localhost:8080/"
        },
        "id": "lYrWflxIIJix",
        "outputId": "84d443c8-2157-4727-b2a5-6903055011b3"
      },
      "execution_count": null,
      "outputs": [
        {
          "output_type": "stream",
          "name": "stderr",
          "text": [
            "<ipython-input-355-bfd742d89ddb>:4: FutureWarning: The default value of regex will change from True to False in a future version. In addition, single character regular expressions will *not* be treated as literal strings when regex=True.\n",
            "  df1[\"price\"] = df1[\"price\"].str.replace('$', '').str.replace(',', '').astype(float)\n"
          ]
        }
      ]
    },
    {
      "cell_type": "code",
      "source": [],
      "metadata": {
        "id": "EFfQndb8ftj1"
      },
      "execution_count": null,
      "outputs": []
    },
    {
      "cell_type": "code",
      "source": [
        "media = df1[\"host_acceptance_rate\"].mean()\n",
        "df1[\"host_acceptance_rate\"].fillna(media, inplace=True)"
      ],
      "metadata": {
        "id": "IMUak-scHkeo"
      },
      "execution_count": null,
      "outputs": []
    },
    {
      "cell_type": "code",
      "source": [
        "df2=df1.copy()"
      ],
      "metadata": {
        "id": "ocDEMvfAGww6"
      },
      "execution_count": null,
      "outputs": []
    },
    {
      "cell_type": "code",
      "source": [
        "df1.info()"
      ],
      "metadata": {
        "id": "qSSnXYLI3ACn",
        "colab": {
          "base_uri": "https://localhost:8080/"
        },
        "outputId": "f23a32c5-efe7-492d-b241-3e56ecec455e"
      },
      "execution_count": null,
      "outputs": [
        {
          "output_type": "stream",
          "name": "stdout",
          "text": [
            "<class 'pandas.core.frame.DataFrame'>\n",
            "RangeIndex: 24224 entries, 0 to 24223\n",
            "Data columns (total 71 columns):\n",
            " #   Column                                        Non-Null Count  Dtype  \n",
            "---  ------                                        --------------  -----  \n",
            " 0   id                                            24224 non-null  int64  \n",
            " 1   listing_url                                   24224 non-null  object \n",
            " 2   scrape_id                                     24224 non-null  int64  \n",
            " 3   last_scraped                                  24224 non-null  object \n",
            " 4   source                                        24224 non-null  object \n",
            " 5   name                                          24224 non-null  object \n",
            " 6   description                                   24224 non-null  object \n",
            " 7   neighborhood_overview                         24223 non-null  object \n",
            " 8   picture_url                                   24224 non-null  object \n",
            " 9   host_id                                       24224 non-null  int64  \n",
            " 10  host_url                                      24224 non-null  object \n",
            " 11  host_name                                     24224 non-null  object \n",
            " 12  host_since                                    24224 non-null  object \n",
            " 13  host_location                                 24224 non-null  object \n",
            " 14  host_about                                    24222 non-null  object \n",
            " 15  host_response_time                            24224 non-null  object \n",
            " 16  host_response_rate                            24224 non-null  float64\n",
            " 17  host_acceptance_rate                          24224 non-null  float64\n",
            " 18  host_is_superhost                             24224 non-null  object \n",
            " 19  host_thumbnail_url                            24224 non-null  object \n",
            " 20  host_picture_url                              24224 non-null  object \n",
            " 21  host_neighbourhood                            24224 non-null  object \n",
            " 22  host_listings_count                           24224 non-null  int64  \n",
            " 23  host_total_listings_count                     24224 non-null  int64  \n",
            " 24  host_verifications                            24224 non-null  object \n",
            " 25  host_has_profile_pic                          24224 non-null  object \n",
            " 26  host_identity_verified                        24224 non-null  object \n",
            " 27  neighbourhood                                 24223 non-null  object \n",
            " 28  neighbourhood_cleansed                        24224 non-null  object \n",
            " 29  latitude                                      24224 non-null  float64\n",
            " 30  longitude                                     24224 non-null  float64\n",
            " 31  property_type                                 24224 non-null  object \n",
            " 32  room_type                                     24224 non-null  object \n",
            " 33  accommodates                                  24224 non-null  int64  \n",
            " 34  bathrooms_text                                24224 non-null  object \n",
            " 35  bedrooms                                      24224 non-null  float64\n",
            " 36  beds                                          24224 non-null  float64\n",
            " 37  amenities                                     24224 non-null  object \n",
            " 38  price                                         24224 non-null  float64\n",
            " 39  minimum_nights                                24224 non-null  int64  \n",
            " 40  maximum_nights                                24224 non-null  int64  \n",
            " 41  minimum_minimum_nights                        24224 non-null  float64\n",
            " 42  maximum_minimum_nights                        24224 non-null  float64\n",
            " 43  minimum_maximum_nights                        24224 non-null  float64\n",
            " 44  maximum_maximum_nights                        24224 non-null  float64\n",
            " 45  minimum_nights_avg_ntm                        24224 non-null  float64\n",
            " 46  maximum_nights_avg_ntm                        24224 non-null  float64\n",
            " 47  has_availability                              24224 non-null  object \n",
            " 48  availability_30                               24224 non-null  int64  \n",
            " 49  availability_60                               24224 non-null  int64  \n",
            " 50  availability_90                               24224 non-null  int64  \n",
            " 51  availability_365                              24224 non-null  int64  \n",
            " 52  calendar_last_scraped                         24224 non-null  object \n",
            " 53  number_of_reviews                             24224 non-null  int64  \n",
            " 54  number_of_reviews_ltm                         24224 non-null  int64  \n",
            " 55  number_of_reviews_l30d                        24224 non-null  int64  \n",
            " 56  first_review                                  24224 non-null  object \n",
            " 57  last_review                                   24224 non-null  object \n",
            " 58  review_scores_rating                          24224 non-null  float64\n",
            " 59  review_scores_accuracy                        24224 non-null  float64\n",
            " 60  review_scores_cleanliness                     24224 non-null  float64\n",
            " 61  review_scores_checkin                         24224 non-null  float64\n",
            " 62  review_scores_communication                   24224 non-null  float64\n",
            " 63  review_scores_location                        24224 non-null  float64\n",
            " 64  review_scores_value                           24224 non-null  float64\n",
            " 65  instant_bookable                              24224 non-null  object \n",
            " 66  calculated_host_listings_count                24224 non-null  int64  \n",
            " 67  calculated_host_listings_count_entire_homes   24224 non-null  int64  \n",
            " 68  calculated_host_listings_count_private_rooms  24224 non-null  int64  \n",
            " 69  calculated_host_listings_count_shared_rooms   24224 non-null  int64  \n",
            " 70  reviews_per_month                             24224 non-null  float64\n",
            "dtypes: float64(21), int64(19), object(31)\n",
            "memory usage: 13.1+ MB\n"
          ]
        }
      ]
    },
    {
      "cell_type": "code",
      "source": [
        "#Método aplicando Cuartiles. Encuentro cuartiles 0.25 y 0.75\n",
        "y=df1\n",
        "percentile25=y.quantile(0.25) #Q1\n",
        "percentile75=y.quantile(0.75) #Q3\n",
        "iqr= percentile75 - percentile25\n",
        "\n",
        "Limite_Superior_iqr= percentile75 + 1.5*iqr\n",
        "Limite_Inferior_iqr= percentile25 - 1.5*iqr\n",
        "print(\"\\nLimite superior permitido\", Limite_Superior_iqr)\n",
        "print(\"\\nLimite inferior permitido\", Limite_Inferior_iqr)\n",
        "\n",
        "#Obtenemos datos limpios del Dataframe\n",
        "df1= df1[(y<=Limite_Superior_iqr)&(y>=Limite_Inferior_iqr)]\n",
        "df1"
      ],
      "metadata": {
        "colab": {
          "base_uri": "https://localhost:8080/",
          "height": 1000
        },
        "id": "InZkW4E2EFSP",
        "outputId": "5f86acb3-66b4-4b68-9b98-2f255b6850c0"
      },
      "execution_count": null,
      "outputs": [
        {
          "output_type": "stream",
          "name": "stdout",
          "text": [
            "\n",
            "Limite superior permitido id                                              1.690170e+18\n",
            "scrape_id                                       2.023033e+13\n",
            "host_id                                         6.839189e+08\n",
            "host_response_rate                              1.000000e+02\n",
            "host_acceptance_rate                            1.075000e+02\n",
            "host_listings_count                             2.850000e+01\n",
            "host_total_listings_count                       3.200000e+01\n",
            "latitude                                        1.949915e+01\n",
            "longitude                                      -9.911735e+01\n",
            "accommodates                                    7.000000e+00\n",
            "bedrooms                                        3.500000e+00\n",
            "beds                                            3.500000e+00\n",
            "price                                           3.161500e+03\n",
            "minimum_nights                                  3.500000e+00\n",
            "maximum_nights                                  2.542500e+03\n",
            "minimum_minimum_nights                          3.500000e+00\n",
            "maximum_minimum_nights                          6.000000e+00\n",
            "minimum_maximum_nights                          2.265000e+03\n",
            "maximum_maximum_nights                          2.265000e+03\n",
            "minimum_nights_avg_ntm                          5.750000e+00\n",
            "maximum_nights_avg_ntm                          2.265000e+03\n",
            "availability_30                                 6.300000e+01\n",
            "availability_60                                 1.095000e+02\n",
            "availability_90                                 1.500000e+02\n",
            "availability_365                                6.740000e+02\n",
            "number_of_reviews                               1.045000e+02\n",
            "number_of_reviews_ltm                           4.750000e+01\n",
            "number_of_reviews_l30d                          5.000000e+00\n",
            "review_scores_rating                            5.495000e+00\n",
            "review_scores_accuracy                          5.375000e+00\n",
            "review_scores_cleanliness                       5.450000e+00\n",
            "review_scores_checkin                           5.270000e+00\n",
            "review_scores_communication                     5.285000e+00\n",
            "review_scores_location                          5.270000e+00\n",
            "review_scores_value                             5.395000e+00\n",
            "calculated_host_listings_count                  2.350000e+01\n",
            "calculated_host_listings_count_entire_homes     1.500000e+01\n",
            "calculated_host_listings_count_private_rooms    5.000000e+00\n",
            "calculated_host_listings_count_shared_rooms     0.000000e+00\n",
            "reviews_per_month                               5.260000e+00\n",
            "dtype: float64\n",
            "\n",
            "Limite inferior permitido id                                             -1.014102e+18\n",
            "scrape_id                                       2.023033e+13\n",
            "host_id                                        -3.333808e+08\n",
            "host_response_rate                              1.000000e+02\n",
            "host_acceptance_rate                            8.750000e+01\n",
            "host_listings_count                            -1.550000e+01\n",
            "host_total_listings_count                      -1.600000e+01\n",
            "latitude                                        1.931817e+01\n",
            "longitude                                      -9.921716e+01\n",
            "accommodates                                   -1.000000e+00\n",
            "bedrooms                                       -5.000000e-01\n",
            "beds                                           -5.000000e-01\n",
            "price                                          -1.002500e+03\n",
            "minimum_nights                                 -5.000000e-01\n",
            "maximum_nights                                 -1.237500e+03\n",
            "minimum_minimum_nights                         -5.000000e-01\n",
            "maximum_minimum_nights                         -2.000000e+00\n",
            "minimum_maximum_nights                         -7.750000e+02\n",
            "maximum_maximum_nights                         -7.750000e+02\n",
            "minimum_nights_avg_ntm                         -1.850000e+00\n",
            "maximum_nights_avg_ntm                         -7.750000e+02\n",
            "availability_30                                -3.300000e+01\n",
            "availability_60                                -3.050000e+01\n",
            "availability_90                                -1.800000e+01\n",
            "availability_365                               -1.740000e+02\n",
            "number_of_reviews                              -5.950000e+01\n",
            "number_of_reviews_ltm                          -2.850000e+01\n",
            "number_of_reviews_l30d                         -3.000000e+00\n",
            "review_scores_rating                            4.175000e+00\n",
            "review_scores_accuracy                          4.375000e+00\n",
            "review_scores_cleanliness                       4.250000e+00\n",
            "review_scores_checkin                           4.550000e+00\n",
            "review_scores_communication                     4.525000e+00\n",
            "review_scores_location                          4.550000e+00\n",
            "review_scores_value                             4.235000e+00\n",
            "calculated_host_listings_count                 -1.250000e+01\n",
            "calculated_host_listings_count_entire_homes    -9.000000e+00\n",
            "calculated_host_listings_count_private_rooms   -3.000000e+00\n",
            "calculated_host_listings_count_shared_rooms     0.000000e+00\n",
            "reviews_per_month                              -2.420000e+00\n",
            "dtype: float64\n"
          ]
        },
        {
          "output_type": "stream",
          "name": "stderr",
          "text": [
            "<ipython-input-359-58988a14b3ea>:3: FutureWarning: The default value of numeric_only in DataFrame.quantile is deprecated. In a future version, it will default to False. Select only valid columns or specify the value of numeric_only to silence this warning.\n",
            "  percentile25=y.quantile(0.25) #Q1\n",
            "<ipython-input-359-58988a14b3ea>:4: FutureWarning: The default value of numeric_only in DataFrame.quantile is deprecated. In a future version, it will default to False. Select only valid columns or specify the value of numeric_only to silence this warning.\n",
            "  percentile75=y.quantile(0.75) #Q3\n",
            "<ipython-input-359-58988a14b3ea>:13: FutureWarning: Automatic reindexing on DataFrame vs Series comparisons is deprecated and will raise ValueError in a future version. Do `left, right = left.align(right, axis=1, copy=False)` before e.g. `left == right`\n",
            "  df1= df1[(y<=Limite_Superior_iqr)&(y>=Limite_Inferior_iqr)]\n"
          ]
        },
        {
          "output_type": "execute_result",
          "data": {
            "text/plain": [
              "                       id listing_url       scrape_id last_scraped source  \\\n",
              "0                 2056638         NaN  20230329041210          NaN    NaN   \n",
              "1                 2072354         NaN  20230329041210          NaN    NaN   \n",
              "2                  696037         NaN  20230329041210          NaN    NaN   \n",
              "3                   35797         NaN  20230329041210          NaN    NaN   \n",
              "4                   44616         NaN  20230329041210          NaN    NaN   \n",
              "...                   ...         ...             ...          ...    ...   \n",
              "24219  853923589855678923         NaN  20230329041210          NaN    NaN   \n",
              "24220  853966732274073000         NaN  20230329041210          NaN    NaN   \n",
              "24221  854225071295768399         NaN  20230329041210          NaN    NaN   \n",
              "24222  854247693069190865         NaN  20230329041210          NaN    NaN   \n",
              "24223  854260329845513725         NaN  20230329041210          NaN    NaN   \n",
              "\n",
              "      name description neighborhood_overview picture_url    host_id  ...  \\\n",
              "0      NaN         NaN                   NaN         NaN   10531228  ...   \n",
              "1      NaN         NaN                   NaN         NaN   16840050  ...   \n",
              "2      NaN         NaN                   NaN         NaN    3531879  ...   \n",
              "3      NaN         NaN                   NaN         NaN     153786  ...   \n",
              "4      NaN         NaN                   NaN         NaN     196253  ...   \n",
              "...    ...         ...                   ...         ...        ...  ...   \n",
              "24219  NaN         NaN                   NaN         NaN  488030249  ...   \n",
              "24220  NaN         NaN                   NaN         NaN  506816029  ...   \n",
              "24221  NaN         NaN                   NaN         NaN  154670560  ...   \n",
              "24222  NaN         NaN                   NaN         NaN    7799414  ...   \n",
              "24223  NaN         NaN                   NaN         NaN  506864314  ...   \n",
              "\n",
              "      review_scores_checkin review_scores_communication  \\\n",
              "0                      5.00                        4.95   \n",
              "1                      4.93                        5.00   \n",
              "2                      4.92                        4.92   \n",
              "3                      4.92                        4.92   \n",
              "4                      4.87                        4.78   \n",
              "...                     ...                         ...   \n",
              "24219                  5.00                        5.00   \n",
              "24220                  5.00                        5.00   \n",
              "24221                  5.00                        5.00   \n",
              "24222                  5.00                        5.00   \n",
              "24223                  5.00                        5.00   \n",
              "\n",
              "      review_scores_location review_scores_value instant_bookable  \\\n",
              "0                       5.00                4.86              NaN   \n",
              "1                       4.95                4.84              NaN   \n",
              "2                       4.58                4.71              NaN   \n",
              "3                       4.58                4.71              NaN   \n",
              "4                       4.98                4.48              NaN   \n",
              "...                      ...                 ...              ...   \n",
              "24219                   5.00                5.00              NaN   \n",
              "24220                   5.00                5.00              NaN   \n",
              "24221                   5.00                5.00              NaN   \n",
              "24222                   5.00                5.00              NaN   \n",
              "24223                   5.00                5.00              NaN   \n",
              "\n",
              "      calculated_host_listings_count  \\\n",
              "0                                3.0   \n",
              "1                                2.0   \n",
              "2                                3.0   \n",
              "3                                1.0   \n",
              "4                               12.0   \n",
              "...                              ...   \n",
              "24219                            2.0   \n",
              "24220                            1.0   \n",
              "24221                            1.0   \n",
              "24222                           13.0   \n",
              "24223                            2.0   \n",
              "\n",
              "       calculated_host_listings_count_entire_homes  \\\n",
              "0                                              3.0   \n",
              "1                                              2.0   \n",
              "2                                              3.0   \n",
              "3                                              1.0   \n",
              "4                                              3.0   \n",
              "...                                            ...   \n",
              "24219                                          2.0   \n",
              "24220                                          1.0   \n",
              "24221                                          0.0   \n",
              "24222                                         13.0   \n",
              "24223                                          2.0   \n",
              "\n",
              "       calculated_host_listings_count_private_rooms  \\\n",
              "0                                               0.0   \n",
              "1                                               0.0   \n",
              "2                                               0.0   \n",
              "3                                               0.0   \n",
              "4                                               2.0   \n",
              "...                                             ...   \n",
              "24219                                           0.0   \n",
              "24220                                           0.0   \n",
              "24221                                           1.0   \n",
              "24222                                           0.0   \n",
              "24223                                           0.0   \n",
              "\n",
              "      calculated_host_listings_count_shared_rooms reviews_per_month  \n",
              "0                                             0.0              0.19  \n",
              "1                                             0.0              0.54  \n",
              "2                                             0.0              0.31  \n",
              "3                                             0.0              0.31  \n",
              "4                                             0.0              0.46  \n",
              "...                                           ...               ...  \n",
              "24219                                         0.0              1.00  \n",
              "24220                                         0.0              1.00  \n",
              "24221                                         0.0              1.00  \n",
              "24222                                         0.0              1.00  \n",
              "24223                                         0.0              1.00  \n",
              "\n",
              "[24224 rows x 71 columns]"
            ],
            "text/html": [
              "\n",
              "  <div id=\"df-f6f02be6-b401-4c12-ad24-62edf77d5530\" class=\"colab-df-container\">\n",
              "    <div>\n",
              "<style scoped>\n",
              "    .dataframe tbody tr th:only-of-type {\n",
              "        vertical-align: middle;\n",
              "    }\n",
              "\n",
              "    .dataframe tbody tr th {\n",
              "        vertical-align: top;\n",
              "    }\n",
              "\n",
              "    .dataframe thead th {\n",
              "        text-align: right;\n",
              "    }\n",
              "</style>\n",
              "<table border=\"1\" class=\"dataframe\">\n",
              "  <thead>\n",
              "    <tr style=\"text-align: right;\">\n",
              "      <th></th>\n",
              "      <th>id</th>\n",
              "      <th>listing_url</th>\n",
              "      <th>scrape_id</th>\n",
              "      <th>last_scraped</th>\n",
              "      <th>source</th>\n",
              "      <th>name</th>\n",
              "      <th>description</th>\n",
              "      <th>neighborhood_overview</th>\n",
              "      <th>picture_url</th>\n",
              "      <th>host_id</th>\n",
              "      <th>...</th>\n",
              "      <th>review_scores_checkin</th>\n",
              "      <th>review_scores_communication</th>\n",
              "      <th>review_scores_location</th>\n",
              "      <th>review_scores_value</th>\n",
              "      <th>instant_bookable</th>\n",
              "      <th>calculated_host_listings_count</th>\n",
              "      <th>calculated_host_listings_count_entire_homes</th>\n",
              "      <th>calculated_host_listings_count_private_rooms</th>\n",
              "      <th>calculated_host_listings_count_shared_rooms</th>\n",
              "      <th>reviews_per_month</th>\n",
              "    </tr>\n",
              "  </thead>\n",
              "  <tbody>\n",
              "    <tr>\n",
              "      <th>0</th>\n",
              "      <td>2056638</td>\n",
              "      <td>NaN</td>\n",
              "      <td>20230329041210</td>\n",
              "      <td>NaN</td>\n",
              "      <td>NaN</td>\n",
              "      <td>NaN</td>\n",
              "      <td>NaN</td>\n",
              "      <td>NaN</td>\n",
              "      <td>NaN</td>\n",
              "      <td>10531228</td>\n",
              "      <td>...</td>\n",
              "      <td>5.00</td>\n",
              "      <td>4.95</td>\n",
              "      <td>5.00</td>\n",
              "      <td>4.86</td>\n",
              "      <td>NaN</td>\n",
              "      <td>3.0</td>\n",
              "      <td>3.0</td>\n",
              "      <td>0.0</td>\n",
              "      <td>0.0</td>\n",
              "      <td>0.19</td>\n",
              "    </tr>\n",
              "    <tr>\n",
              "      <th>1</th>\n",
              "      <td>2072354</td>\n",
              "      <td>NaN</td>\n",
              "      <td>20230329041210</td>\n",
              "      <td>NaN</td>\n",
              "      <td>NaN</td>\n",
              "      <td>NaN</td>\n",
              "      <td>NaN</td>\n",
              "      <td>NaN</td>\n",
              "      <td>NaN</td>\n",
              "      <td>16840050</td>\n",
              "      <td>...</td>\n",
              "      <td>4.93</td>\n",
              "      <td>5.00</td>\n",
              "      <td>4.95</td>\n",
              "      <td>4.84</td>\n",
              "      <td>NaN</td>\n",
              "      <td>2.0</td>\n",
              "      <td>2.0</td>\n",
              "      <td>0.0</td>\n",
              "      <td>0.0</td>\n",
              "      <td>0.54</td>\n",
              "    </tr>\n",
              "    <tr>\n",
              "      <th>2</th>\n",
              "      <td>696037</td>\n",
              "      <td>NaN</td>\n",
              "      <td>20230329041210</td>\n",
              "      <td>NaN</td>\n",
              "      <td>NaN</td>\n",
              "      <td>NaN</td>\n",
              "      <td>NaN</td>\n",
              "      <td>NaN</td>\n",
              "      <td>NaN</td>\n",
              "      <td>3531879</td>\n",
              "      <td>...</td>\n",
              "      <td>4.92</td>\n",
              "      <td>4.92</td>\n",
              "      <td>4.58</td>\n",
              "      <td>4.71</td>\n",
              "      <td>NaN</td>\n",
              "      <td>3.0</td>\n",
              "      <td>3.0</td>\n",
              "      <td>0.0</td>\n",
              "      <td>0.0</td>\n",
              "      <td>0.31</td>\n",
              "    </tr>\n",
              "    <tr>\n",
              "      <th>3</th>\n",
              "      <td>35797</td>\n",
              "      <td>NaN</td>\n",
              "      <td>20230329041210</td>\n",
              "      <td>NaN</td>\n",
              "      <td>NaN</td>\n",
              "      <td>NaN</td>\n",
              "      <td>NaN</td>\n",
              "      <td>NaN</td>\n",
              "      <td>NaN</td>\n",
              "      <td>153786</td>\n",
              "      <td>...</td>\n",
              "      <td>4.92</td>\n",
              "      <td>4.92</td>\n",
              "      <td>4.58</td>\n",
              "      <td>4.71</td>\n",
              "      <td>NaN</td>\n",
              "      <td>1.0</td>\n",
              "      <td>1.0</td>\n",
              "      <td>0.0</td>\n",
              "      <td>0.0</td>\n",
              "      <td>0.31</td>\n",
              "    </tr>\n",
              "    <tr>\n",
              "      <th>4</th>\n",
              "      <td>44616</td>\n",
              "      <td>NaN</td>\n",
              "      <td>20230329041210</td>\n",
              "      <td>NaN</td>\n",
              "      <td>NaN</td>\n",
              "      <td>NaN</td>\n",
              "      <td>NaN</td>\n",
              "      <td>NaN</td>\n",
              "      <td>NaN</td>\n",
              "      <td>196253</td>\n",
              "      <td>...</td>\n",
              "      <td>4.87</td>\n",
              "      <td>4.78</td>\n",
              "      <td>4.98</td>\n",
              "      <td>4.48</td>\n",
              "      <td>NaN</td>\n",
              "      <td>12.0</td>\n",
              "      <td>3.0</td>\n",
              "      <td>2.0</td>\n",
              "      <td>0.0</td>\n",
              "      <td>0.46</td>\n",
              "    </tr>\n",
              "    <tr>\n",
              "      <th>...</th>\n",
              "      <td>...</td>\n",
              "      <td>...</td>\n",
              "      <td>...</td>\n",
              "      <td>...</td>\n",
              "      <td>...</td>\n",
              "      <td>...</td>\n",
              "      <td>...</td>\n",
              "      <td>...</td>\n",
              "      <td>...</td>\n",
              "      <td>...</td>\n",
              "      <td>...</td>\n",
              "      <td>...</td>\n",
              "      <td>...</td>\n",
              "      <td>...</td>\n",
              "      <td>...</td>\n",
              "      <td>...</td>\n",
              "      <td>...</td>\n",
              "      <td>...</td>\n",
              "      <td>...</td>\n",
              "      <td>...</td>\n",
              "      <td>...</td>\n",
              "    </tr>\n",
              "    <tr>\n",
              "      <th>24219</th>\n",
              "      <td>853923589855678923</td>\n",
              "      <td>NaN</td>\n",
              "      <td>20230329041210</td>\n",
              "      <td>NaN</td>\n",
              "      <td>NaN</td>\n",
              "      <td>NaN</td>\n",
              "      <td>NaN</td>\n",
              "      <td>NaN</td>\n",
              "      <td>NaN</td>\n",
              "      <td>488030249</td>\n",
              "      <td>...</td>\n",
              "      <td>5.00</td>\n",
              "      <td>5.00</td>\n",
              "      <td>5.00</td>\n",
              "      <td>5.00</td>\n",
              "      <td>NaN</td>\n",
              "      <td>2.0</td>\n",
              "      <td>2.0</td>\n",
              "      <td>0.0</td>\n",
              "      <td>0.0</td>\n",
              "      <td>1.00</td>\n",
              "    </tr>\n",
              "    <tr>\n",
              "      <th>24220</th>\n",
              "      <td>853966732274073000</td>\n",
              "      <td>NaN</td>\n",
              "      <td>20230329041210</td>\n",
              "      <td>NaN</td>\n",
              "      <td>NaN</td>\n",
              "      <td>NaN</td>\n",
              "      <td>NaN</td>\n",
              "      <td>NaN</td>\n",
              "      <td>NaN</td>\n",
              "      <td>506816029</td>\n",
              "      <td>...</td>\n",
              "      <td>5.00</td>\n",
              "      <td>5.00</td>\n",
              "      <td>5.00</td>\n",
              "      <td>5.00</td>\n",
              "      <td>NaN</td>\n",
              "      <td>1.0</td>\n",
              "      <td>1.0</td>\n",
              "      <td>0.0</td>\n",
              "      <td>0.0</td>\n",
              "      <td>1.00</td>\n",
              "    </tr>\n",
              "    <tr>\n",
              "      <th>24221</th>\n",
              "      <td>854225071295768399</td>\n",
              "      <td>NaN</td>\n",
              "      <td>20230329041210</td>\n",
              "      <td>NaN</td>\n",
              "      <td>NaN</td>\n",
              "      <td>NaN</td>\n",
              "      <td>NaN</td>\n",
              "      <td>NaN</td>\n",
              "      <td>NaN</td>\n",
              "      <td>154670560</td>\n",
              "      <td>...</td>\n",
              "      <td>5.00</td>\n",
              "      <td>5.00</td>\n",
              "      <td>5.00</td>\n",
              "      <td>5.00</td>\n",
              "      <td>NaN</td>\n",
              "      <td>1.0</td>\n",
              "      <td>0.0</td>\n",
              "      <td>1.0</td>\n",
              "      <td>0.0</td>\n",
              "      <td>1.00</td>\n",
              "    </tr>\n",
              "    <tr>\n",
              "      <th>24222</th>\n",
              "      <td>854247693069190865</td>\n",
              "      <td>NaN</td>\n",
              "      <td>20230329041210</td>\n",
              "      <td>NaN</td>\n",
              "      <td>NaN</td>\n",
              "      <td>NaN</td>\n",
              "      <td>NaN</td>\n",
              "      <td>NaN</td>\n",
              "      <td>NaN</td>\n",
              "      <td>7799414</td>\n",
              "      <td>...</td>\n",
              "      <td>5.00</td>\n",
              "      <td>5.00</td>\n",
              "      <td>5.00</td>\n",
              "      <td>5.00</td>\n",
              "      <td>NaN</td>\n",
              "      <td>13.0</td>\n",
              "      <td>13.0</td>\n",
              "      <td>0.0</td>\n",
              "      <td>0.0</td>\n",
              "      <td>1.00</td>\n",
              "    </tr>\n",
              "    <tr>\n",
              "      <th>24223</th>\n",
              "      <td>854260329845513725</td>\n",
              "      <td>NaN</td>\n",
              "      <td>20230329041210</td>\n",
              "      <td>NaN</td>\n",
              "      <td>NaN</td>\n",
              "      <td>NaN</td>\n",
              "      <td>NaN</td>\n",
              "      <td>NaN</td>\n",
              "      <td>NaN</td>\n",
              "      <td>506864314</td>\n",
              "      <td>...</td>\n",
              "      <td>5.00</td>\n",
              "      <td>5.00</td>\n",
              "      <td>5.00</td>\n",
              "      <td>5.00</td>\n",
              "      <td>NaN</td>\n",
              "      <td>2.0</td>\n",
              "      <td>2.0</td>\n",
              "      <td>0.0</td>\n",
              "      <td>0.0</td>\n",
              "      <td>1.00</td>\n",
              "    </tr>\n",
              "  </tbody>\n",
              "</table>\n",
              "<p>24224 rows × 71 columns</p>\n",
              "</div>\n",
              "    <div class=\"colab-df-buttons\">\n",
              "\n",
              "  <div class=\"colab-df-container\">\n",
              "    <button class=\"colab-df-convert\" onclick=\"convertToInteractive('df-f6f02be6-b401-4c12-ad24-62edf77d5530')\"\n",
              "            title=\"Convert this dataframe to an interactive table.\"\n",
              "            style=\"display:none;\">\n",
              "\n",
              "  <svg xmlns=\"http://www.w3.org/2000/svg\" height=\"24px\" viewBox=\"0 -960 960 960\">\n",
              "    <path d=\"M120-120v-720h720v720H120Zm60-500h600v-160H180v160Zm220 220h160v-160H400v160Zm0 220h160v-160H400v160ZM180-400h160v-160H180v160Zm440 0h160v-160H620v160ZM180-180h160v-160H180v160Zm440 0h160v-160H620v160Z\"/>\n",
              "  </svg>\n",
              "    </button>\n",
              "\n",
              "  <style>\n",
              "    .colab-df-container {\n",
              "      display:flex;\n",
              "      gap: 12px;\n",
              "    }\n",
              "\n",
              "    .colab-df-convert {\n",
              "      background-color: #E8F0FE;\n",
              "      border: none;\n",
              "      border-radius: 50%;\n",
              "      cursor: pointer;\n",
              "      display: none;\n",
              "      fill: #1967D2;\n",
              "      height: 32px;\n",
              "      padding: 0 0 0 0;\n",
              "      width: 32px;\n",
              "    }\n",
              "\n",
              "    .colab-df-convert:hover {\n",
              "      background-color: #E2EBFA;\n",
              "      box-shadow: 0px 1px 2px rgba(60, 64, 67, 0.3), 0px 1px 3px 1px rgba(60, 64, 67, 0.15);\n",
              "      fill: #174EA6;\n",
              "    }\n",
              "\n",
              "    .colab-df-buttons div {\n",
              "      margin-bottom: 4px;\n",
              "    }\n",
              "\n",
              "    [theme=dark] .colab-df-convert {\n",
              "      background-color: #3B4455;\n",
              "      fill: #D2E3FC;\n",
              "    }\n",
              "\n",
              "    [theme=dark] .colab-df-convert:hover {\n",
              "      background-color: #434B5C;\n",
              "      box-shadow: 0px 1px 3px 1px rgba(0, 0, 0, 0.15);\n",
              "      filter: drop-shadow(0px 1px 2px rgba(0, 0, 0, 0.3));\n",
              "      fill: #FFFFFF;\n",
              "    }\n",
              "  </style>\n",
              "\n",
              "    <script>\n",
              "      const buttonEl =\n",
              "        document.querySelector('#df-f6f02be6-b401-4c12-ad24-62edf77d5530 button.colab-df-convert');\n",
              "      buttonEl.style.display =\n",
              "        google.colab.kernel.accessAllowed ? 'block' : 'none';\n",
              "\n",
              "      async function convertToInteractive(key) {\n",
              "        const element = document.querySelector('#df-f6f02be6-b401-4c12-ad24-62edf77d5530');\n",
              "        const dataTable =\n",
              "          await google.colab.kernel.invokeFunction('convertToInteractive',\n",
              "                                                    [key], {});\n",
              "        if (!dataTable) return;\n",
              "\n",
              "        const docLinkHtml = 'Like what you see? Visit the ' +\n",
              "          '<a target=\"_blank\" href=https://colab.research.google.com/notebooks/data_table.ipynb>data table notebook</a>'\n",
              "          + ' to learn more about interactive tables.';\n",
              "        element.innerHTML = '';\n",
              "        dataTable['output_type'] = 'display_data';\n",
              "        await google.colab.output.renderOutput(dataTable, element);\n",
              "        const docLink = document.createElement('div');\n",
              "        docLink.innerHTML = docLinkHtml;\n",
              "        element.appendChild(docLink);\n",
              "      }\n",
              "    </script>\n",
              "  </div>\n",
              "\n",
              "\n",
              "<div id=\"df-f1702798-0490-45ac-93af-f2543dbe2166\">\n",
              "  <button class=\"colab-df-quickchart\" onclick=\"quickchart('df-f1702798-0490-45ac-93af-f2543dbe2166')\"\n",
              "            title=\"Suggest charts.\"\n",
              "            style=\"display:none;\">\n",
              "\n",
              "<svg xmlns=\"http://www.w3.org/2000/svg\" height=\"24px\"viewBox=\"0 0 24 24\"\n",
              "     width=\"24px\">\n",
              "    <g>\n",
              "        <path d=\"M19 3H5c-1.1 0-2 .9-2 2v14c0 1.1.9 2 2 2h14c1.1 0 2-.9 2-2V5c0-1.1-.9-2-2-2zM9 17H7v-7h2v7zm4 0h-2V7h2v10zm4 0h-2v-4h2v4z\"/>\n",
              "    </g>\n",
              "</svg>\n",
              "  </button>\n",
              "\n",
              "<style>\n",
              "  .colab-df-quickchart {\n",
              "      --bg-color: #E8F0FE;\n",
              "      --fill-color: #1967D2;\n",
              "      --hover-bg-color: #E2EBFA;\n",
              "      --hover-fill-color: #174EA6;\n",
              "      --disabled-fill-color: #AAA;\n",
              "      --disabled-bg-color: #DDD;\n",
              "  }\n",
              "\n",
              "  [theme=dark] .colab-df-quickchart {\n",
              "      --bg-color: #3B4455;\n",
              "      --fill-color: #D2E3FC;\n",
              "      --hover-bg-color: #434B5C;\n",
              "      --hover-fill-color: #FFFFFF;\n",
              "      --disabled-bg-color: #3B4455;\n",
              "      --disabled-fill-color: #666;\n",
              "  }\n",
              "\n",
              "  .colab-df-quickchart {\n",
              "    background-color: var(--bg-color);\n",
              "    border: none;\n",
              "    border-radius: 50%;\n",
              "    cursor: pointer;\n",
              "    display: none;\n",
              "    fill: var(--fill-color);\n",
              "    height: 32px;\n",
              "    padding: 0;\n",
              "    width: 32px;\n",
              "  }\n",
              "\n",
              "  .colab-df-quickchart:hover {\n",
              "    background-color: var(--hover-bg-color);\n",
              "    box-shadow: 0 1px 2px rgba(60, 64, 67, 0.3), 0 1px 3px 1px rgba(60, 64, 67, 0.15);\n",
              "    fill: var(--button-hover-fill-color);\n",
              "  }\n",
              "\n",
              "  .colab-df-quickchart-complete:disabled,\n",
              "  .colab-df-quickchart-complete:disabled:hover {\n",
              "    background-color: var(--disabled-bg-color);\n",
              "    fill: var(--disabled-fill-color);\n",
              "    box-shadow: none;\n",
              "  }\n",
              "\n",
              "  .colab-df-spinner {\n",
              "    border: 2px solid var(--fill-color);\n",
              "    border-color: transparent;\n",
              "    border-bottom-color: var(--fill-color);\n",
              "    animation:\n",
              "      spin 1s steps(1) infinite;\n",
              "  }\n",
              "\n",
              "  @keyframes spin {\n",
              "    0% {\n",
              "      border-color: transparent;\n",
              "      border-bottom-color: var(--fill-color);\n",
              "      border-left-color: var(--fill-color);\n",
              "    }\n",
              "    20% {\n",
              "      border-color: transparent;\n",
              "      border-left-color: var(--fill-color);\n",
              "      border-top-color: var(--fill-color);\n",
              "    }\n",
              "    30% {\n",
              "      border-color: transparent;\n",
              "      border-left-color: var(--fill-color);\n",
              "      border-top-color: var(--fill-color);\n",
              "      border-right-color: var(--fill-color);\n",
              "    }\n",
              "    40% {\n",
              "      border-color: transparent;\n",
              "      border-right-color: var(--fill-color);\n",
              "      border-top-color: var(--fill-color);\n",
              "    }\n",
              "    60% {\n",
              "      border-color: transparent;\n",
              "      border-right-color: var(--fill-color);\n",
              "    }\n",
              "    80% {\n",
              "      border-color: transparent;\n",
              "      border-right-color: var(--fill-color);\n",
              "      border-bottom-color: var(--fill-color);\n",
              "    }\n",
              "    90% {\n",
              "      border-color: transparent;\n",
              "      border-bottom-color: var(--fill-color);\n",
              "    }\n",
              "  }\n",
              "</style>\n",
              "\n",
              "  <script>\n",
              "    async function quickchart(key) {\n",
              "      const quickchartButtonEl =\n",
              "        document.querySelector('#' + key + ' button');\n",
              "      quickchartButtonEl.disabled = true;  // To prevent multiple clicks.\n",
              "      quickchartButtonEl.classList.add('colab-df-spinner');\n",
              "      try {\n",
              "        const charts = await google.colab.kernel.invokeFunction(\n",
              "            'suggestCharts', [key], {});\n",
              "      } catch (error) {\n",
              "        console.error('Error during call to suggestCharts:', error);\n",
              "      }\n",
              "      quickchartButtonEl.classList.remove('colab-df-spinner');\n",
              "      quickchartButtonEl.classList.add('colab-df-quickchart-complete');\n",
              "    }\n",
              "    (() => {\n",
              "      let quickchartButtonEl =\n",
              "        document.querySelector('#df-f1702798-0490-45ac-93af-f2543dbe2166 button');\n",
              "      quickchartButtonEl.style.display =\n",
              "        google.colab.kernel.accessAllowed ? 'block' : 'none';\n",
              "    })();\n",
              "  </script>\n",
              "</div>\n",
              "    </div>\n",
              "  </div>\n"
            ]
          },
          "metadata": {},
          "execution_count": 359
        }
      ]
    },
    {
      "cell_type": "code",
      "source": [
        "da1= df1.drop([\"listing_url\", \"last_scraped\", \"source\", \"name\", \"description\", \"neighborhood_overview\", \"picture_url\", \"instant_bookable\",\n",
        "                 \"host_id\", \"host_url\", \"host_name\", \"host_since\", \"host_location\", \"host_about\", \"host_response_time\", \"host_response_rate\",\n",
        "                 \"host_acceptance_rate\", \"host_is_superhost\", \"host_thumbnail_url\", \"host_picture_url\", \"host_neighbourhood\", \"host_verifications\",\n",
        "                 \"host_has_profile_pic\", \"host_identity_verified\", \"neighbourhood\", \"neighbourhood_cleansed\", \"property_type\", \"room_type\",\"bathrooms_text\",\n",
        "                 \"amenities\",\"price\",\"has_availability\",\"calendar_last_scraped\",\"first_review\",\"last_review\"],axis=1)\n",
        "da1"
      ],
      "metadata": {
        "colab": {
          "base_uri": "https://localhost:8080/",
          "height": 443
        },
        "id": "CV_TmQIGELgJ",
        "outputId": "f5ddf2ca-7f3c-49da-9829-9d6eb5031e32"
      },
      "execution_count": null,
      "outputs": [
        {
          "output_type": "execute_result",
          "data": {
            "text/plain": [
              "                       id       scrape_id  host_listings_count  \\\n",
              "0                 2056638  20230329041210                  3.0   \n",
              "1                 2072354  20230329041210                  3.0   \n",
              "2                  696037  20230329041210                  4.0   \n",
              "3                   35797  20230329041210                  1.0   \n",
              "4                   44616  20230329041210                 16.0   \n",
              "...                   ...             ...                  ...   \n",
              "24219  853923589855678923  20230329041210                  3.0   \n",
              "24220  853966732274073000  20230329041210                  1.0   \n",
              "24221  854225071295768399  20230329041210                  1.0   \n",
              "24222  854247693069190865  20230329041210                 13.0   \n",
              "24223  854260329845513725  20230329041210                  2.0   \n",
              "\n",
              "       host_total_listings_count   latitude  longitude  accommodates  \\\n",
              "0                            7.0  19.353530 -99.162990           3.0   \n",
              "1                            3.0  19.353580 -99.169480           2.0   \n",
              "2                            4.0  19.441800 -99.184020           6.0   \n",
              "3                            1.0  19.382830        NaN           2.0   \n",
              "4                           16.0  19.411620 -99.177940           NaN   \n",
              "...                          ...        ...        ...           ...   \n",
              "24219                        4.0  19.396663 -99.148145           2.0   \n",
              "24220                        1.0  19.392023 -99.118722           7.0   \n",
              "24221                        6.0  19.371088 -99.190186           2.0   \n",
              "24222                       13.0  19.403792 -99.164978           2.0   \n",
              "24223                        2.0  19.426283 -99.175603           6.0   \n",
              "\n",
              "       bedrooms  beds  minimum_nights  ...  review_scores_cleanliness  \\\n",
              "0           1.0   1.0             1.0  ...                       4.95   \n",
              "1           1.0   1.0             3.0  ...                       4.88   \n",
              "2           3.0   3.0             NaN  ...                       4.71   \n",
              "3           1.0   1.0             1.0  ...                       4.71   \n",
              "4           NaN   NaN             1.0  ...                       4.70   \n",
              "...         ...   ...             ...  ...                        ...   \n",
              "24219       1.0   1.0             3.0  ...                       5.00   \n",
              "24220       2.0   3.0             1.0  ...                       5.00   \n",
              "24221       2.0   1.0             NaN  ...                       5.00   \n",
              "24222       1.0   1.0             1.0  ...                       5.00   \n",
              "24223       3.0   3.0             1.0  ...                       5.00   \n",
              "\n",
              "       review_scores_checkin  review_scores_communication  \\\n",
              "0                       5.00                         4.95   \n",
              "1                       4.93                         5.00   \n",
              "2                       4.92                         4.92   \n",
              "3                       4.92                         4.92   \n",
              "4                       4.87                         4.78   \n",
              "...                      ...                          ...   \n",
              "24219                   5.00                         5.00   \n",
              "24220                   5.00                         5.00   \n",
              "24221                   5.00                         5.00   \n",
              "24222                   5.00                         5.00   \n",
              "24223                   5.00                         5.00   \n",
              "\n",
              "       review_scores_location  review_scores_value  \\\n",
              "0                        5.00                 4.86   \n",
              "1                        4.95                 4.84   \n",
              "2                        4.58                 4.71   \n",
              "3                        4.58                 4.71   \n",
              "4                        4.98                 4.48   \n",
              "...                       ...                  ...   \n",
              "24219                    5.00                 5.00   \n",
              "24220                    5.00                 5.00   \n",
              "24221                    5.00                 5.00   \n",
              "24222                    5.00                 5.00   \n",
              "24223                    5.00                 5.00   \n",
              "\n",
              "       calculated_host_listings_count  \\\n",
              "0                                 3.0   \n",
              "1                                 2.0   \n",
              "2                                 3.0   \n",
              "3                                 1.0   \n",
              "4                                12.0   \n",
              "...                               ...   \n",
              "24219                             2.0   \n",
              "24220                             1.0   \n",
              "24221                             1.0   \n",
              "24222                            13.0   \n",
              "24223                             2.0   \n",
              "\n",
              "       calculated_host_listings_count_entire_homes  \\\n",
              "0                                              3.0   \n",
              "1                                              2.0   \n",
              "2                                              3.0   \n",
              "3                                              1.0   \n",
              "4                                              3.0   \n",
              "...                                            ...   \n",
              "24219                                          2.0   \n",
              "24220                                          1.0   \n",
              "24221                                          0.0   \n",
              "24222                                         13.0   \n",
              "24223                                          2.0   \n",
              "\n",
              "       calculated_host_listings_count_private_rooms  \\\n",
              "0                                               0.0   \n",
              "1                                               0.0   \n",
              "2                                               0.0   \n",
              "3                                               0.0   \n",
              "4                                               2.0   \n",
              "...                                             ...   \n",
              "24219                                           0.0   \n",
              "24220                                           0.0   \n",
              "24221                                           1.0   \n",
              "24222                                           0.0   \n",
              "24223                                           0.0   \n",
              "\n",
              "       calculated_host_listings_count_shared_rooms  reviews_per_month  \n",
              "0                                              0.0               0.19  \n",
              "1                                              0.0               0.54  \n",
              "2                                              0.0               0.31  \n",
              "3                                              0.0               0.31  \n",
              "4                                              0.0               0.46  \n",
              "...                                            ...                ...  \n",
              "24219                                          0.0               1.00  \n",
              "24220                                          0.0               1.00  \n",
              "24221                                          0.0               1.00  \n",
              "24222                                          0.0               1.00  \n",
              "24223                                          0.0               1.00  \n",
              "\n",
              "[24224 rows x 36 columns]"
            ],
            "text/html": [
              "\n",
              "  <div id=\"df-95369001-0523-4a19-a8e4-3d26ae3a2138\" class=\"colab-df-container\">\n",
              "    <div>\n",
              "<style scoped>\n",
              "    .dataframe tbody tr th:only-of-type {\n",
              "        vertical-align: middle;\n",
              "    }\n",
              "\n",
              "    .dataframe tbody tr th {\n",
              "        vertical-align: top;\n",
              "    }\n",
              "\n",
              "    .dataframe thead th {\n",
              "        text-align: right;\n",
              "    }\n",
              "</style>\n",
              "<table border=\"1\" class=\"dataframe\">\n",
              "  <thead>\n",
              "    <tr style=\"text-align: right;\">\n",
              "      <th></th>\n",
              "      <th>id</th>\n",
              "      <th>scrape_id</th>\n",
              "      <th>host_listings_count</th>\n",
              "      <th>host_total_listings_count</th>\n",
              "      <th>latitude</th>\n",
              "      <th>longitude</th>\n",
              "      <th>accommodates</th>\n",
              "      <th>bedrooms</th>\n",
              "      <th>beds</th>\n",
              "      <th>minimum_nights</th>\n",
              "      <th>...</th>\n",
              "      <th>review_scores_cleanliness</th>\n",
              "      <th>review_scores_checkin</th>\n",
              "      <th>review_scores_communication</th>\n",
              "      <th>review_scores_location</th>\n",
              "      <th>review_scores_value</th>\n",
              "      <th>calculated_host_listings_count</th>\n",
              "      <th>calculated_host_listings_count_entire_homes</th>\n",
              "      <th>calculated_host_listings_count_private_rooms</th>\n",
              "      <th>calculated_host_listings_count_shared_rooms</th>\n",
              "      <th>reviews_per_month</th>\n",
              "    </tr>\n",
              "  </thead>\n",
              "  <tbody>\n",
              "    <tr>\n",
              "      <th>0</th>\n",
              "      <td>2056638</td>\n",
              "      <td>20230329041210</td>\n",
              "      <td>3.0</td>\n",
              "      <td>7.0</td>\n",
              "      <td>19.353530</td>\n",
              "      <td>-99.162990</td>\n",
              "      <td>3.0</td>\n",
              "      <td>1.0</td>\n",
              "      <td>1.0</td>\n",
              "      <td>1.0</td>\n",
              "      <td>...</td>\n",
              "      <td>4.95</td>\n",
              "      <td>5.00</td>\n",
              "      <td>4.95</td>\n",
              "      <td>5.00</td>\n",
              "      <td>4.86</td>\n",
              "      <td>3.0</td>\n",
              "      <td>3.0</td>\n",
              "      <td>0.0</td>\n",
              "      <td>0.0</td>\n",
              "      <td>0.19</td>\n",
              "    </tr>\n",
              "    <tr>\n",
              "      <th>1</th>\n",
              "      <td>2072354</td>\n",
              "      <td>20230329041210</td>\n",
              "      <td>3.0</td>\n",
              "      <td>3.0</td>\n",
              "      <td>19.353580</td>\n",
              "      <td>-99.169480</td>\n",
              "      <td>2.0</td>\n",
              "      <td>1.0</td>\n",
              "      <td>1.0</td>\n",
              "      <td>3.0</td>\n",
              "      <td>...</td>\n",
              "      <td>4.88</td>\n",
              "      <td>4.93</td>\n",
              "      <td>5.00</td>\n",
              "      <td>4.95</td>\n",
              "      <td>4.84</td>\n",
              "      <td>2.0</td>\n",
              "      <td>2.0</td>\n",
              "      <td>0.0</td>\n",
              "      <td>0.0</td>\n",
              "      <td>0.54</td>\n",
              "    </tr>\n",
              "    <tr>\n",
              "      <th>2</th>\n",
              "      <td>696037</td>\n",
              "      <td>20230329041210</td>\n",
              "      <td>4.0</td>\n",
              "      <td>4.0</td>\n",
              "      <td>19.441800</td>\n",
              "      <td>-99.184020</td>\n",
              "      <td>6.0</td>\n",
              "      <td>3.0</td>\n",
              "      <td>3.0</td>\n",
              "      <td>NaN</td>\n",
              "      <td>...</td>\n",
              "      <td>4.71</td>\n",
              "      <td>4.92</td>\n",
              "      <td>4.92</td>\n",
              "      <td>4.58</td>\n",
              "      <td>4.71</td>\n",
              "      <td>3.0</td>\n",
              "      <td>3.0</td>\n",
              "      <td>0.0</td>\n",
              "      <td>0.0</td>\n",
              "      <td>0.31</td>\n",
              "    </tr>\n",
              "    <tr>\n",
              "      <th>3</th>\n",
              "      <td>35797</td>\n",
              "      <td>20230329041210</td>\n",
              "      <td>1.0</td>\n",
              "      <td>1.0</td>\n",
              "      <td>19.382830</td>\n",
              "      <td>NaN</td>\n",
              "      <td>2.0</td>\n",
              "      <td>1.0</td>\n",
              "      <td>1.0</td>\n",
              "      <td>1.0</td>\n",
              "      <td>...</td>\n",
              "      <td>4.71</td>\n",
              "      <td>4.92</td>\n",
              "      <td>4.92</td>\n",
              "      <td>4.58</td>\n",
              "      <td>4.71</td>\n",
              "      <td>1.0</td>\n",
              "      <td>1.0</td>\n",
              "      <td>0.0</td>\n",
              "      <td>0.0</td>\n",
              "      <td>0.31</td>\n",
              "    </tr>\n",
              "    <tr>\n",
              "      <th>4</th>\n",
              "      <td>44616</td>\n",
              "      <td>20230329041210</td>\n",
              "      <td>16.0</td>\n",
              "      <td>16.0</td>\n",
              "      <td>19.411620</td>\n",
              "      <td>-99.177940</td>\n",
              "      <td>NaN</td>\n",
              "      <td>NaN</td>\n",
              "      <td>NaN</td>\n",
              "      <td>1.0</td>\n",
              "      <td>...</td>\n",
              "      <td>4.70</td>\n",
              "      <td>4.87</td>\n",
              "      <td>4.78</td>\n",
              "      <td>4.98</td>\n",
              "      <td>4.48</td>\n",
              "      <td>12.0</td>\n",
              "      <td>3.0</td>\n",
              "      <td>2.0</td>\n",
              "      <td>0.0</td>\n",
              "      <td>0.46</td>\n",
              "    </tr>\n",
              "    <tr>\n",
              "      <th>...</th>\n",
              "      <td>...</td>\n",
              "      <td>...</td>\n",
              "      <td>...</td>\n",
              "      <td>...</td>\n",
              "      <td>...</td>\n",
              "      <td>...</td>\n",
              "      <td>...</td>\n",
              "      <td>...</td>\n",
              "      <td>...</td>\n",
              "      <td>...</td>\n",
              "      <td>...</td>\n",
              "      <td>...</td>\n",
              "      <td>...</td>\n",
              "      <td>...</td>\n",
              "      <td>...</td>\n",
              "      <td>...</td>\n",
              "      <td>...</td>\n",
              "      <td>...</td>\n",
              "      <td>...</td>\n",
              "      <td>...</td>\n",
              "      <td>...</td>\n",
              "    </tr>\n",
              "    <tr>\n",
              "      <th>24219</th>\n",
              "      <td>853923589855678923</td>\n",
              "      <td>20230329041210</td>\n",
              "      <td>3.0</td>\n",
              "      <td>4.0</td>\n",
              "      <td>19.396663</td>\n",
              "      <td>-99.148145</td>\n",
              "      <td>2.0</td>\n",
              "      <td>1.0</td>\n",
              "      <td>1.0</td>\n",
              "      <td>3.0</td>\n",
              "      <td>...</td>\n",
              "      <td>5.00</td>\n",
              "      <td>5.00</td>\n",
              "      <td>5.00</td>\n",
              "      <td>5.00</td>\n",
              "      <td>5.00</td>\n",
              "      <td>2.0</td>\n",
              "      <td>2.0</td>\n",
              "      <td>0.0</td>\n",
              "      <td>0.0</td>\n",
              "      <td>1.00</td>\n",
              "    </tr>\n",
              "    <tr>\n",
              "      <th>24220</th>\n",
              "      <td>853966732274073000</td>\n",
              "      <td>20230329041210</td>\n",
              "      <td>1.0</td>\n",
              "      <td>1.0</td>\n",
              "      <td>19.392023</td>\n",
              "      <td>-99.118722</td>\n",
              "      <td>7.0</td>\n",
              "      <td>2.0</td>\n",
              "      <td>3.0</td>\n",
              "      <td>1.0</td>\n",
              "      <td>...</td>\n",
              "      <td>5.00</td>\n",
              "      <td>5.00</td>\n",
              "      <td>5.00</td>\n",
              "      <td>5.00</td>\n",
              "      <td>5.00</td>\n",
              "      <td>1.0</td>\n",
              "      <td>1.0</td>\n",
              "      <td>0.0</td>\n",
              "      <td>0.0</td>\n",
              "      <td>1.00</td>\n",
              "    </tr>\n",
              "    <tr>\n",
              "      <th>24221</th>\n",
              "      <td>854225071295768399</td>\n",
              "      <td>20230329041210</td>\n",
              "      <td>1.0</td>\n",
              "      <td>6.0</td>\n",
              "      <td>19.371088</td>\n",
              "      <td>-99.190186</td>\n",
              "      <td>2.0</td>\n",
              "      <td>2.0</td>\n",
              "      <td>1.0</td>\n",
              "      <td>NaN</td>\n",
              "      <td>...</td>\n",
              "      <td>5.00</td>\n",
              "      <td>5.00</td>\n",
              "      <td>5.00</td>\n",
              "      <td>5.00</td>\n",
              "      <td>5.00</td>\n",
              "      <td>1.0</td>\n",
              "      <td>0.0</td>\n",
              "      <td>1.0</td>\n",
              "      <td>0.0</td>\n",
              "      <td>1.00</td>\n",
              "    </tr>\n",
              "    <tr>\n",
              "      <th>24222</th>\n",
              "      <td>854247693069190865</td>\n",
              "      <td>20230329041210</td>\n",
              "      <td>13.0</td>\n",
              "      <td>13.0</td>\n",
              "      <td>19.403792</td>\n",
              "      <td>-99.164978</td>\n",
              "      <td>2.0</td>\n",
              "      <td>1.0</td>\n",
              "      <td>1.0</td>\n",
              "      <td>1.0</td>\n",
              "      <td>...</td>\n",
              "      <td>5.00</td>\n",
              "      <td>5.00</td>\n",
              "      <td>5.00</td>\n",
              "      <td>5.00</td>\n",
              "      <td>5.00</td>\n",
              "      <td>13.0</td>\n",
              "      <td>13.0</td>\n",
              "      <td>0.0</td>\n",
              "      <td>0.0</td>\n",
              "      <td>1.00</td>\n",
              "    </tr>\n",
              "    <tr>\n",
              "      <th>24223</th>\n",
              "      <td>854260329845513725</td>\n",
              "      <td>20230329041210</td>\n",
              "      <td>2.0</td>\n",
              "      <td>2.0</td>\n",
              "      <td>19.426283</td>\n",
              "      <td>-99.175603</td>\n",
              "      <td>6.0</td>\n",
              "      <td>3.0</td>\n",
              "      <td>3.0</td>\n",
              "      <td>1.0</td>\n",
              "      <td>...</td>\n",
              "      <td>5.00</td>\n",
              "      <td>5.00</td>\n",
              "      <td>5.00</td>\n",
              "      <td>5.00</td>\n",
              "      <td>5.00</td>\n",
              "      <td>2.0</td>\n",
              "      <td>2.0</td>\n",
              "      <td>0.0</td>\n",
              "      <td>0.0</td>\n",
              "      <td>1.00</td>\n",
              "    </tr>\n",
              "  </tbody>\n",
              "</table>\n",
              "<p>24224 rows × 36 columns</p>\n",
              "</div>\n",
              "    <div class=\"colab-df-buttons\">\n",
              "\n",
              "  <div class=\"colab-df-container\">\n",
              "    <button class=\"colab-df-convert\" onclick=\"convertToInteractive('df-95369001-0523-4a19-a8e4-3d26ae3a2138')\"\n",
              "            title=\"Convert this dataframe to an interactive table.\"\n",
              "            style=\"display:none;\">\n",
              "\n",
              "  <svg xmlns=\"http://www.w3.org/2000/svg\" height=\"24px\" viewBox=\"0 -960 960 960\">\n",
              "    <path d=\"M120-120v-720h720v720H120Zm60-500h600v-160H180v160Zm220 220h160v-160H400v160Zm0 220h160v-160H400v160ZM180-400h160v-160H180v160Zm440 0h160v-160H620v160ZM180-180h160v-160H180v160Zm440 0h160v-160H620v160Z\"/>\n",
              "  </svg>\n",
              "    </button>\n",
              "\n",
              "  <style>\n",
              "    .colab-df-container {\n",
              "      display:flex;\n",
              "      gap: 12px;\n",
              "    }\n",
              "\n",
              "    .colab-df-convert {\n",
              "      background-color: #E8F0FE;\n",
              "      border: none;\n",
              "      border-radius: 50%;\n",
              "      cursor: pointer;\n",
              "      display: none;\n",
              "      fill: #1967D2;\n",
              "      height: 32px;\n",
              "      padding: 0 0 0 0;\n",
              "      width: 32px;\n",
              "    }\n",
              "\n",
              "    .colab-df-convert:hover {\n",
              "      background-color: #E2EBFA;\n",
              "      box-shadow: 0px 1px 2px rgba(60, 64, 67, 0.3), 0px 1px 3px 1px rgba(60, 64, 67, 0.15);\n",
              "      fill: #174EA6;\n",
              "    }\n",
              "\n",
              "    .colab-df-buttons div {\n",
              "      margin-bottom: 4px;\n",
              "    }\n",
              "\n",
              "    [theme=dark] .colab-df-convert {\n",
              "      background-color: #3B4455;\n",
              "      fill: #D2E3FC;\n",
              "    }\n",
              "\n",
              "    [theme=dark] .colab-df-convert:hover {\n",
              "      background-color: #434B5C;\n",
              "      box-shadow: 0px 1px 3px 1px rgba(0, 0, 0, 0.15);\n",
              "      filter: drop-shadow(0px 1px 2px rgba(0, 0, 0, 0.3));\n",
              "      fill: #FFFFFF;\n",
              "    }\n",
              "  </style>\n",
              "\n",
              "    <script>\n",
              "      const buttonEl =\n",
              "        document.querySelector('#df-95369001-0523-4a19-a8e4-3d26ae3a2138 button.colab-df-convert');\n",
              "      buttonEl.style.display =\n",
              "        google.colab.kernel.accessAllowed ? 'block' : 'none';\n",
              "\n",
              "      async function convertToInteractive(key) {\n",
              "        const element = document.querySelector('#df-95369001-0523-4a19-a8e4-3d26ae3a2138');\n",
              "        const dataTable =\n",
              "          await google.colab.kernel.invokeFunction('convertToInteractive',\n",
              "                                                    [key], {});\n",
              "        if (!dataTable) return;\n",
              "\n",
              "        const docLinkHtml = 'Like what you see? Visit the ' +\n",
              "          '<a target=\"_blank\" href=https://colab.research.google.com/notebooks/data_table.ipynb>data table notebook</a>'\n",
              "          + ' to learn more about interactive tables.';\n",
              "        element.innerHTML = '';\n",
              "        dataTable['output_type'] = 'display_data';\n",
              "        await google.colab.output.renderOutput(dataTable, element);\n",
              "        const docLink = document.createElement('div');\n",
              "        docLink.innerHTML = docLinkHtml;\n",
              "        element.appendChild(docLink);\n",
              "      }\n",
              "    </script>\n",
              "  </div>\n",
              "\n",
              "\n",
              "<div id=\"df-7f235b79-dcdf-479c-8340-d99d0d7535fc\">\n",
              "  <button class=\"colab-df-quickchart\" onclick=\"quickchart('df-7f235b79-dcdf-479c-8340-d99d0d7535fc')\"\n",
              "            title=\"Suggest charts.\"\n",
              "            style=\"display:none;\">\n",
              "\n",
              "<svg xmlns=\"http://www.w3.org/2000/svg\" height=\"24px\"viewBox=\"0 0 24 24\"\n",
              "     width=\"24px\">\n",
              "    <g>\n",
              "        <path d=\"M19 3H5c-1.1 0-2 .9-2 2v14c0 1.1.9 2 2 2h14c1.1 0 2-.9 2-2V5c0-1.1-.9-2-2-2zM9 17H7v-7h2v7zm4 0h-2V7h2v10zm4 0h-2v-4h2v4z\"/>\n",
              "    </g>\n",
              "</svg>\n",
              "  </button>\n",
              "\n",
              "<style>\n",
              "  .colab-df-quickchart {\n",
              "      --bg-color: #E8F0FE;\n",
              "      --fill-color: #1967D2;\n",
              "      --hover-bg-color: #E2EBFA;\n",
              "      --hover-fill-color: #174EA6;\n",
              "      --disabled-fill-color: #AAA;\n",
              "      --disabled-bg-color: #DDD;\n",
              "  }\n",
              "\n",
              "  [theme=dark] .colab-df-quickchart {\n",
              "      --bg-color: #3B4455;\n",
              "      --fill-color: #D2E3FC;\n",
              "      --hover-bg-color: #434B5C;\n",
              "      --hover-fill-color: #FFFFFF;\n",
              "      --disabled-bg-color: #3B4455;\n",
              "      --disabled-fill-color: #666;\n",
              "  }\n",
              "\n",
              "  .colab-df-quickchart {\n",
              "    background-color: var(--bg-color);\n",
              "    border: none;\n",
              "    border-radius: 50%;\n",
              "    cursor: pointer;\n",
              "    display: none;\n",
              "    fill: var(--fill-color);\n",
              "    height: 32px;\n",
              "    padding: 0;\n",
              "    width: 32px;\n",
              "  }\n",
              "\n",
              "  .colab-df-quickchart:hover {\n",
              "    background-color: var(--hover-bg-color);\n",
              "    box-shadow: 0 1px 2px rgba(60, 64, 67, 0.3), 0 1px 3px 1px rgba(60, 64, 67, 0.15);\n",
              "    fill: var(--button-hover-fill-color);\n",
              "  }\n",
              "\n",
              "  .colab-df-quickchart-complete:disabled,\n",
              "  .colab-df-quickchart-complete:disabled:hover {\n",
              "    background-color: var(--disabled-bg-color);\n",
              "    fill: var(--disabled-fill-color);\n",
              "    box-shadow: none;\n",
              "  }\n",
              "\n",
              "  .colab-df-spinner {\n",
              "    border: 2px solid var(--fill-color);\n",
              "    border-color: transparent;\n",
              "    border-bottom-color: var(--fill-color);\n",
              "    animation:\n",
              "      spin 1s steps(1) infinite;\n",
              "  }\n",
              "\n",
              "  @keyframes spin {\n",
              "    0% {\n",
              "      border-color: transparent;\n",
              "      border-bottom-color: var(--fill-color);\n",
              "      border-left-color: var(--fill-color);\n",
              "    }\n",
              "    20% {\n",
              "      border-color: transparent;\n",
              "      border-left-color: var(--fill-color);\n",
              "      border-top-color: var(--fill-color);\n",
              "    }\n",
              "    30% {\n",
              "      border-color: transparent;\n",
              "      border-left-color: var(--fill-color);\n",
              "      border-top-color: var(--fill-color);\n",
              "      border-right-color: var(--fill-color);\n",
              "    }\n",
              "    40% {\n",
              "      border-color: transparent;\n",
              "      border-right-color: var(--fill-color);\n",
              "      border-top-color: var(--fill-color);\n",
              "    }\n",
              "    60% {\n",
              "      border-color: transparent;\n",
              "      border-right-color: var(--fill-color);\n",
              "    }\n",
              "    80% {\n",
              "      border-color: transparent;\n",
              "      border-right-color: var(--fill-color);\n",
              "      border-bottom-color: var(--fill-color);\n",
              "    }\n",
              "    90% {\n",
              "      border-color: transparent;\n",
              "      border-bottom-color: var(--fill-color);\n",
              "    }\n",
              "  }\n",
              "</style>\n",
              "\n",
              "  <script>\n",
              "    async function quickchart(key) {\n",
              "      const quickchartButtonEl =\n",
              "        document.querySelector('#' + key + ' button');\n",
              "      quickchartButtonEl.disabled = true;  // To prevent multiple clicks.\n",
              "      quickchartButtonEl.classList.add('colab-df-spinner');\n",
              "      try {\n",
              "        const charts = await google.colab.kernel.invokeFunction(\n",
              "            'suggestCharts', [key], {});\n",
              "      } catch (error) {\n",
              "        console.error('Error during call to suggestCharts:', error);\n",
              "      }\n",
              "      quickchartButtonEl.classList.remove('colab-df-spinner');\n",
              "      quickchartButtonEl.classList.add('colab-df-quickchart-complete');\n",
              "    }\n",
              "    (() => {\n",
              "      let quickchartButtonEl =\n",
              "        document.querySelector('#df-7f235b79-dcdf-479c-8340-d99d0d7535fc button');\n",
              "      quickchartButtonEl.style.display =\n",
              "        google.colab.kernel.accessAllowed ? 'block' : 'none';\n",
              "    })();\n",
              "  </script>\n",
              "</div>\n",
              "    </div>\n",
              "  </div>\n"
            ]
          },
          "metadata": {},
          "execution_count": 360
        }
      ]
    },
    {
      "cell_type": "code",
      "source": [
        "da2 = df2[[\"host_acceptance_rate\", \"host_response_rate\", \"price\", \"number_of_reviews\", \"review_scores_location\", \"review_scores_cleanliness\", \"availability_365\", \"reviews_per_month\", \"review_scores_communication\",\"room_type\"]]\n",
        "da2"
      ],
      "metadata": {
        "id": "oDHWJTU-4X-W",
        "colab": {
          "base_uri": "https://localhost:8080/",
          "height": 617
        },
        "outputId": "b23a652e-4bb2-4c16-e77b-746da1300739"
      },
      "execution_count": null,
      "outputs": [
        {
          "output_type": "execute_result",
          "data": {
            "text/plain": [
              "       host_acceptance_rate  host_response_rate    price  number_of_reviews  \\\n",
              "0                 91.289737               100.0   1434.0                 21   \n",
              "1                 91.289737               100.0    830.0                 61   \n",
              "2                 90.000000               100.0   1469.0                 39   \n",
              "3                 90.000000               100.0   3658.0                  0   \n",
              "4                 86.000000               100.0  18000.0                 64   \n",
              "...                     ...                 ...      ...                ...   \n",
              "24219            100.000000               100.0    760.0                  0   \n",
              "24220            100.000000               100.0   1520.0                  0   \n",
              "24221             96.000000               100.0    533.0                  0   \n",
              "24222            100.000000               100.0   1200.0                  0   \n",
              "24223            100.000000               100.0   1720.0                  0   \n",
              "\n",
              "       review_scores_location  review_scores_cleanliness  availability_365  \\\n",
              "0                        5.00                       4.95               324   \n",
              "1                        4.95                       4.88               346   \n",
              "2                        4.58                       4.71                87   \n",
              "3                        4.58                       4.71               363   \n",
              "4                        4.98                       4.70               357   \n",
              "...                       ...                        ...               ...   \n",
              "24219                    5.00                       5.00               352   \n",
              "24220                    5.00                       5.00               365   \n",
              "24221                    5.00                       5.00               180   \n",
              "24222                    5.00                       5.00               344   \n",
              "24223                    5.00                       5.00               359   \n",
              "\n",
              "       reviews_per_month  review_scores_communication        room_type  \n",
              "0                   0.19                         4.95  Entire home/apt  \n",
              "1                   0.54                         5.00  Entire home/apt  \n",
              "2                   0.31                         4.92  Entire home/apt  \n",
              "3                   0.31                         4.92  Entire home/apt  \n",
              "4                   0.46                         4.78  Entire home/apt  \n",
              "...                  ...                          ...              ...  \n",
              "24219               1.00                         5.00  Entire home/apt  \n",
              "24220               1.00                         5.00  Entire home/apt  \n",
              "24221               1.00                         5.00     Private room  \n",
              "24222               1.00                         5.00  Entire home/apt  \n",
              "24223               1.00                         5.00  Entire home/apt  \n",
              "\n",
              "[24224 rows x 10 columns]"
            ],
            "text/html": [
              "\n",
              "  <div id=\"df-b782d641-5d4f-468c-bd9d-5fa1e51b9144\" class=\"colab-df-container\">\n",
              "    <div>\n",
              "<style scoped>\n",
              "    .dataframe tbody tr th:only-of-type {\n",
              "        vertical-align: middle;\n",
              "    }\n",
              "\n",
              "    .dataframe tbody tr th {\n",
              "        vertical-align: top;\n",
              "    }\n",
              "\n",
              "    .dataframe thead th {\n",
              "        text-align: right;\n",
              "    }\n",
              "</style>\n",
              "<table border=\"1\" class=\"dataframe\">\n",
              "  <thead>\n",
              "    <tr style=\"text-align: right;\">\n",
              "      <th></th>\n",
              "      <th>host_acceptance_rate</th>\n",
              "      <th>host_response_rate</th>\n",
              "      <th>price</th>\n",
              "      <th>number_of_reviews</th>\n",
              "      <th>review_scores_location</th>\n",
              "      <th>review_scores_cleanliness</th>\n",
              "      <th>availability_365</th>\n",
              "      <th>reviews_per_month</th>\n",
              "      <th>review_scores_communication</th>\n",
              "      <th>room_type</th>\n",
              "    </tr>\n",
              "  </thead>\n",
              "  <tbody>\n",
              "    <tr>\n",
              "      <th>0</th>\n",
              "      <td>91.289737</td>\n",
              "      <td>100.0</td>\n",
              "      <td>1434.0</td>\n",
              "      <td>21</td>\n",
              "      <td>5.00</td>\n",
              "      <td>4.95</td>\n",
              "      <td>324</td>\n",
              "      <td>0.19</td>\n",
              "      <td>4.95</td>\n",
              "      <td>Entire home/apt</td>\n",
              "    </tr>\n",
              "    <tr>\n",
              "      <th>1</th>\n",
              "      <td>91.289737</td>\n",
              "      <td>100.0</td>\n",
              "      <td>830.0</td>\n",
              "      <td>61</td>\n",
              "      <td>4.95</td>\n",
              "      <td>4.88</td>\n",
              "      <td>346</td>\n",
              "      <td>0.54</td>\n",
              "      <td>5.00</td>\n",
              "      <td>Entire home/apt</td>\n",
              "    </tr>\n",
              "    <tr>\n",
              "      <th>2</th>\n",
              "      <td>90.000000</td>\n",
              "      <td>100.0</td>\n",
              "      <td>1469.0</td>\n",
              "      <td>39</td>\n",
              "      <td>4.58</td>\n",
              "      <td>4.71</td>\n",
              "      <td>87</td>\n",
              "      <td>0.31</td>\n",
              "      <td>4.92</td>\n",
              "      <td>Entire home/apt</td>\n",
              "    </tr>\n",
              "    <tr>\n",
              "      <th>3</th>\n",
              "      <td>90.000000</td>\n",
              "      <td>100.0</td>\n",
              "      <td>3658.0</td>\n",
              "      <td>0</td>\n",
              "      <td>4.58</td>\n",
              "      <td>4.71</td>\n",
              "      <td>363</td>\n",
              "      <td>0.31</td>\n",
              "      <td>4.92</td>\n",
              "      <td>Entire home/apt</td>\n",
              "    </tr>\n",
              "    <tr>\n",
              "      <th>4</th>\n",
              "      <td>86.000000</td>\n",
              "      <td>100.0</td>\n",
              "      <td>18000.0</td>\n",
              "      <td>64</td>\n",
              "      <td>4.98</td>\n",
              "      <td>4.70</td>\n",
              "      <td>357</td>\n",
              "      <td>0.46</td>\n",
              "      <td>4.78</td>\n",
              "      <td>Entire home/apt</td>\n",
              "    </tr>\n",
              "    <tr>\n",
              "      <th>...</th>\n",
              "      <td>...</td>\n",
              "      <td>...</td>\n",
              "      <td>...</td>\n",
              "      <td>...</td>\n",
              "      <td>...</td>\n",
              "      <td>...</td>\n",
              "      <td>...</td>\n",
              "      <td>...</td>\n",
              "      <td>...</td>\n",
              "      <td>...</td>\n",
              "    </tr>\n",
              "    <tr>\n",
              "      <th>24219</th>\n",
              "      <td>100.000000</td>\n",
              "      <td>100.0</td>\n",
              "      <td>760.0</td>\n",
              "      <td>0</td>\n",
              "      <td>5.00</td>\n",
              "      <td>5.00</td>\n",
              "      <td>352</td>\n",
              "      <td>1.00</td>\n",
              "      <td>5.00</td>\n",
              "      <td>Entire home/apt</td>\n",
              "    </tr>\n",
              "    <tr>\n",
              "      <th>24220</th>\n",
              "      <td>100.000000</td>\n",
              "      <td>100.0</td>\n",
              "      <td>1520.0</td>\n",
              "      <td>0</td>\n",
              "      <td>5.00</td>\n",
              "      <td>5.00</td>\n",
              "      <td>365</td>\n",
              "      <td>1.00</td>\n",
              "      <td>5.00</td>\n",
              "      <td>Entire home/apt</td>\n",
              "    </tr>\n",
              "    <tr>\n",
              "      <th>24221</th>\n",
              "      <td>96.000000</td>\n",
              "      <td>100.0</td>\n",
              "      <td>533.0</td>\n",
              "      <td>0</td>\n",
              "      <td>5.00</td>\n",
              "      <td>5.00</td>\n",
              "      <td>180</td>\n",
              "      <td>1.00</td>\n",
              "      <td>5.00</td>\n",
              "      <td>Private room</td>\n",
              "    </tr>\n",
              "    <tr>\n",
              "      <th>24222</th>\n",
              "      <td>100.000000</td>\n",
              "      <td>100.0</td>\n",
              "      <td>1200.0</td>\n",
              "      <td>0</td>\n",
              "      <td>5.00</td>\n",
              "      <td>5.00</td>\n",
              "      <td>344</td>\n",
              "      <td>1.00</td>\n",
              "      <td>5.00</td>\n",
              "      <td>Entire home/apt</td>\n",
              "    </tr>\n",
              "    <tr>\n",
              "      <th>24223</th>\n",
              "      <td>100.000000</td>\n",
              "      <td>100.0</td>\n",
              "      <td>1720.0</td>\n",
              "      <td>0</td>\n",
              "      <td>5.00</td>\n",
              "      <td>5.00</td>\n",
              "      <td>359</td>\n",
              "      <td>1.00</td>\n",
              "      <td>5.00</td>\n",
              "      <td>Entire home/apt</td>\n",
              "    </tr>\n",
              "  </tbody>\n",
              "</table>\n",
              "<p>24224 rows × 10 columns</p>\n",
              "</div>\n",
              "    <div class=\"colab-df-buttons\">\n",
              "\n",
              "  <div class=\"colab-df-container\">\n",
              "    <button class=\"colab-df-convert\" onclick=\"convertToInteractive('df-b782d641-5d4f-468c-bd9d-5fa1e51b9144')\"\n",
              "            title=\"Convert this dataframe to an interactive table.\"\n",
              "            style=\"display:none;\">\n",
              "\n",
              "  <svg xmlns=\"http://www.w3.org/2000/svg\" height=\"24px\" viewBox=\"0 -960 960 960\">\n",
              "    <path d=\"M120-120v-720h720v720H120Zm60-500h600v-160H180v160Zm220 220h160v-160H400v160Zm0 220h160v-160H400v160ZM180-400h160v-160H180v160Zm440 0h160v-160H620v160ZM180-180h160v-160H180v160Zm440 0h160v-160H620v160Z\"/>\n",
              "  </svg>\n",
              "    </button>\n",
              "\n",
              "  <style>\n",
              "    .colab-df-container {\n",
              "      display:flex;\n",
              "      gap: 12px;\n",
              "    }\n",
              "\n",
              "    .colab-df-convert {\n",
              "      background-color: #E8F0FE;\n",
              "      border: none;\n",
              "      border-radius: 50%;\n",
              "      cursor: pointer;\n",
              "      display: none;\n",
              "      fill: #1967D2;\n",
              "      height: 32px;\n",
              "      padding: 0 0 0 0;\n",
              "      width: 32px;\n",
              "    }\n",
              "\n",
              "    .colab-df-convert:hover {\n",
              "      background-color: #E2EBFA;\n",
              "      box-shadow: 0px 1px 2px rgba(60, 64, 67, 0.3), 0px 1px 3px 1px rgba(60, 64, 67, 0.15);\n",
              "      fill: #174EA6;\n",
              "    }\n",
              "\n",
              "    .colab-df-buttons div {\n",
              "      margin-bottom: 4px;\n",
              "    }\n",
              "\n",
              "    [theme=dark] .colab-df-convert {\n",
              "      background-color: #3B4455;\n",
              "      fill: #D2E3FC;\n",
              "    }\n",
              "\n",
              "    [theme=dark] .colab-df-convert:hover {\n",
              "      background-color: #434B5C;\n",
              "      box-shadow: 0px 1px 3px 1px rgba(0, 0, 0, 0.15);\n",
              "      filter: drop-shadow(0px 1px 2px rgba(0, 0, 0, 0.3));\n",
              "      fill: #FFFFFF;\n",
              "    }\n",
              "  </style>\n",
              "\n",
              "    <script>\n",
              "      const buttonEl =\n",
              "        document.querySelector('#df-b782d641-5d4f-468c-bd9d-5fa1e51b9144 button.colab-df-convert');\n",
              "      buttonEl.style.display =\n",
              "        google.colab.kernel.accessAllowed ? 'block' : 'none';\n",
              "\n",
              "      async function convertToInteractive(key) {\n",
              "        const element = document.querySelector('#df-b782d641-5d4f-468c-bd9d-5fa1e51b9144');\n",
              "        const dataTable =\n",
              "          await google.colab.kernel.invokeFunction('convertToInteractive',\n",
              "                                                    [key], {});\n",
              "        if (!dataTable) return;\n",
              "\n",
              "        const docLinkHtml = 'Like what you see? Visit the ' +\n",
              "          '<a target=\"_blank\" href=https://colab.research.google.com/notebooks/data_table.ipynb>data table notebook</a>'\n",
              "          + ' to learn more about interactive tables.';\n",
              "        element.innerHTML = '';\n",
              "        dataTable['output_type'] = 'display_data';\n",
              "        await google.colab.output.renderOutput(dataTable, element);\n",
              "        const docLink = document.createElement('div');\n",
              "        docLink.innerHTML = docLinkHtml;\n",
              "        element.appendChild(docLink);\n",
              "      }\n",
              "    </script>\n",
              "  </div>\n",
              "\n",
              "\n",
              "<div id=\"df-8c976afc-724f-4cd3-b659-7645f93d634e\">\n",
              "  <button class=\"colab-df-quickchart\" onclick=\"quickchart('df-8c976afc-724f-4cd3-b659-7645f93d634e')\"\n",
              "            title=\"Suggest charts.\"\n",
              "            style=\"display:none;\">\n",
              "\n",
              "<svg xmlns=\"http://www.w3.org/2000/svg\" height=\"24px\"viewBox=\"0 0 24 24\"\n",
              "     width=\"24px\">\n",
              "    <g>\n",
              "        <path d=\"M19 3H5c-1.1 0-2 .9-2 2v14c0 1.1.9 2 2 2h14c1.1 0 2-.9 2-2V5c0-1.1-.9-2-2-2zM9 17H7v-7h2v7zm4 0h-2V7h2v10zm4 0h-2v-4h2v4z\"/>\n",
              "    </g>\n",
              "</svg>\n",
              "  </button>\n",
              "\n",
              "<style>\n",
              "  .colab-df-quickchart {\n",
              "      --bg-color: #E8F0FE;\n",
              "      --fill-color: #1967D2;\n",
              "      --hover-bg-color: #E2EBFA;\n",
              "      --hover-fill-color: #174EA6;\n",
              "      --disabled-fill-color: #AAA;\n",
              "      --disabled-bg-color: #DDD;\n",
              "  }\n",
              "\n",
              "  [theme=dark] .colab-df-quickchart {\n",
              "      --bg-color: #3B4455;\n",
              "      --fill-color: #D2E3FC;\n",
              "      --hover-bg-color: #434B5C;\n",
              "      --hover-fill-color: #FFFFFF;\n",
              "      --disabled-bg-color: #3B4455;\n",
              "      --disabled-fill-color: #666;\n",
              "  }\n",
              "\n",
              "  .colab-df-quickchart {\n",
              "    background-color: var(--bg-color);\n",
              "    border: none;\n",
              "    border-radius: 50%;\n",
              "    cursor: pointer;\n",
              "    display: none;\n",
              "    fill: var(--fill-color);\n",
              "    height: 32px;\n",
              "    padding: 0;\n",
              "    width: 32px;\n",
              "  }\n",
              "\n",
              "  .colab-df-quickchart:hover {\n",
              "    background-color: var(--hover-bg-color);\n",
              "    box-shadow: 0 1px 2px rgba(60, 64, 67, 0.3), 0 1px 3px 1px rgba(60, 64, 67, 0.15);\n",
              "    fill: var(--button-hover-fill-color);\n",
              "  }\n",
              "\n",
              "  .colab-df-quickchart-complete:disabled,\n",
              "  .colab-df-quickchart-complete:disabled:hover {\n",
              "    background-color: var(--disabled-bg-color);\n",
              "    fill: var(--disabled-fill-color);\n",
              "    box-shadow: none;\n",
              "  }\n",
              "\n",
              "  .colab-df-spinner {\n",
              "    border: 2px solid var(--fill-color);\n",
              "    border-color: transparent;\n",
              "    border-bottom-color: var(--fill-color);\n",
              "    animation:\n",
              "      spin 1s steps(1) infinite;\n",
              "  }\n",
              "\n",
              "  @keyframes spin {\n",
              "    0% {\n",
              "      border-color: transparent;\n",
              "      border-bottom-color: var(--fill-color);\n",
              "      border-left-color: var(--fill-color);\n",
              "    }\n",
              "    20% {\n",
              "      border-color: transparent;\n",
              "      border-left-color: var(--fill-color);\n",
              "      border-top-color: var(--fill-color);\n",
              "    }\n",
              "    30% {\n",
              "      border-color: transparent;\n",
              "      border-left-color: var(--fill-color);\n",
              "      border-top-color: var(--fill-color);\n",
              "      border-right-color: var(--fill-color);\n",
              "    }\n",
              "    40% {\n",
              "      border-color: transparent;\n",
              "      border-right-color: var(--fill-color);\n",
              "      border-top-color: var(--fill-color);\n",
              "    }\n",
              "    60% {\n",
              "      border-color: transparent;\n",
              "      border-right-color: var(--fill-color);\n",
              "    }\n",
              "    80% {\n",
              "      border-color: transparent;\n",
              "      border-right-color: var(--fill-color);\n",
              "      border-bottom-color: var(--fill-color);\n",
              "    }\n",
              "    90% {\n",
              "      border-color: transparent;\n",
              "      border-bottom-color: var(--fill-color);\n",
              "    }\n",
              "  }\n",
              "</style>\n",
              "\n",
              "  <script>\n",
              "    async function quickchart(key) {\n",
              "      const quickchartButtonEl =\n",
              "        document.querySelector('#' + key + ' button');\n",
              "      quickchartButtonEl.disabled = true;  // To prevent multiple clicks.\n",
              "      quickchartButtonEl.classList.add('colab-df-spinner');\n",
              "      try {\n",
              "        const charts = await google.colab.kernel.invokeFunction(\n",
              "            'suggestCharts', [key], {});\n",
              "      } catch (error) {\n",
              "        console.error('Error during call to suggestCharts:', error);\n",
              "      }\n",
              "      quickchartButtonEl.classList.remove('colab-df-spinner');\n",
              "      quickchartButtonEl.classList.add('colab-df-quickchart-complete');\n",
              "    }\n",
              "    (() => {\n",
              "      let quickchartButtonEl =\n",
              "        document.querySelector('#df-8c976afc-724f-4cd3-b659-7645f93d634e button');\n",
              "      quickchartButtonEl.style.display =\n",
              "        google.colab.kernel.accessAllowed ? 'block' : 'none';\n",
              "    })();\n",
              "  </script>\n",
              "</div>\n",
              "    </div>\n",
              "  </div>\n"
            ]
          },
          "metadata": {},
          "execution_count": 361
        }
      ]
    },
    {
      "cell_type": "code",
      "source": [
        "private = da2[da2[\"room_type\"] == \"Private room\"]\n",
        "shared = df2[df2['room_type'] == 'Shared room']"
      ],
      "metadata": {
        "id": "FcKWbAtUGBf9"
      },
      "execution_count": null,
      "outputs": []
    },
    {
      "cell_type": "code",
      "source": [
        "from turtle import color\n",
        "sns.scatterplot(x='host_response_rate', y='host_acceptance_rate', color=\"pink\", data=private)"
      ],
      "metadata": {
        "id": "wCG_l9KR4X0w",
        "colab": {
          "base_uri": "https://localhost:8080/",
          "height": 467
        },
        "outputId": "26bee25d-beb3-41b0-9be5-269c665c7445"
      },
      "execution_count": null,
      "outputs": [
        {
          "output_type": "execute_result",
          "data": {
            "text/plain": [
              "<Axes: xlabel='host_response_rate', ylabel='host_acceptance_rate'>"
            ]
          },
          "metadata": {},
          "execution_count": 363
        },
        {
          "output_type": "display_data",
          "data": {
            "text/plain": [
              "<Figure size 640x480 with 1 Axes>"
            ],
            "image/png": "[encoded data removed]"
          },
          "metadata": {}
        }
      ]
    },
    {
      "cell_type": "code",
      "source": [
        "Independiente = private[['host_response_rate']]\n",
        "Dependiente = private['host_acceptance_rate']\n",
        "from sklearn.linear_model import LinearRegression\n",
        "model= LinearRegression()\n",
        "model.fit(X=Independiente , y=Dependiente)\n",
        "model.__dict__"
      ],
      "metadata": {
        "colab": {
          "base_uri": "https://localhost:8080/"
        },
        "id": "iaGpzhfIRX14",
        "outputId": "c183ac65-ba4e-4e80-d2f0-0be93f87ba1a"
      },
      "execution_count": null,
      "outputs": [
        {
          "output_type": "execute_result",
          "data": {
            "text/plain": [
              "{'fit_intercept': True,\n",
              " 'copy_X': True,\n",
              " 'n_jobs': None,\n",
              " 'positive': False,\n",
              " 'feature_names_in_': array(['host_response_rate'], dtype=object),\n",
              " 'n_features_in_': 1,\n",
              " 'coef_': array([0.3747922]),\n",
              " 'rank_': 1,\n",
              " 'singular_': array([2130.80139075]),\n",
              " 'intercept_': 53.24119420065673}"
            ]
          },
          "metadata": {},
          "execution_count": 364
        }
      ]
    },
    {
      "cell_type": "markdown",
      "source": [
        "host_acceptance_rate (private) = 0.37x + 53.24"
      ],
      "metadata": {
        "id": "DEUzCFMLsVv3"
      }
    },
    {
      "cell_type": "code",
      "source": [
        "coef_Deter=model.score(X=Independiente, y=Dependiente)\n",
        "coef_Deter"
      ],
      "metadata": {
        "colab": {
          "base_uri": "https://localhost:8080/"
        },
        "id": "cpWHzhkNoU4E",
        "outputId": "26e76c98-c22c-43ad-8d54-91294ffe8a61"
      },
      "execution_count": null,
      "outputs": [
        {
          "output_type": "execute_result",
          "data": {
            "text/plain": [
              "0.11941487752518953"
            ]
          },
          "metadata": {},
          "execution_count": 365
        }
      ]
    },
    {
      "cell_type": "code",
      "source": [
        "sns.scatterplot(x='host_response_rate', y='host_acceptance_rate', color=\"pink\", data=shared)"
      ],
      "metadata": {
        "colab": {
          "base_uri": "https://localhost:8080/",
          "height": 467
        },
        "id": "ykbuMAzWBzD-",
        "outputId": "4b5d1a55-1755-47d2-d60c-b5b8ac4b4480"
      },
      "execution_count": null,
      "outputs": [
        {
          "output_type": "execute_result",
          "data": {
            "text/plain": [
              "<Axes: xlabel='host_response_rate', ylabel='host_acceptance_rate'>"
            ]
          },
          "metadata": {},
          "execution_count": 366
        },
        {
          "output_type": "display_data",
          "data": {
            "text/plain": [
              "<Figure size 640x480 with 1 Axes>"
            ],
            "image/png": "[encoded data removed]"
          },
          "metadata": {}
        }
      ]
    },
    {
      "cell_type": "code",
      "source": [
        "Independiente = shared[['host_response_rate']]\n",
        "Dependiente = shared['host_acceptance_rate']\n",
        "from sklearn.linear_model import LinearRegression\n",
        "model= LinearRegression()\n",
        "model.fit(X=Independiente, y=Dependiente)\n",
        "model.__dict__"
      ],
      "metadata": {
        "colab": {
          "base_uri": "https://localhost:8080/"
        },
        "id": "L8n6uu0xB1YL",
        "outputId": "f07321ae-d86e-4805-a334-ef03d2d9bdf7"
      },
      "execution_count": null,
      "outputs": [
        {
          "output_type": "execute_result",
          "data": {
            "text/plain": [
              "{'fit_intercept': True,\n",
              " 'copy_X': True,\n",
              " 'n_jobs': None,\n",
              " 'positive': False,\n",
              " 'feature_names_in_': array(['host_response_rate'], dtype=object),\n",
              " 'n_features_in_': 1,\n",
              " 'coef_': array([0.38535469]),\n",
              " 'rank_': 1,\n",
              " 'singular_': array([443.73282402]),\n",
              " 'intercept_': 50.20285361997221}"
            ]
          },
          "metadata": {},
          "execution_count": 367
        }
      ]
    },
    {
      "cell_type": "code",
      "source": [
        "coef_Deter11=model.score(X=Independiente, y=Dependiente)\n",
        "coef_Deter11"
      ],
      "metadata": {
        "colab": {
          "base_uri": "https://localhost:8080/"
        },
        "id": "E0o7yI62oY_G",
        "outputId": "1e11a3ed-a2dc-4969-c697-1acd030af2a6"
      },
      "execution_count": null,
      "outputs": [
        {
          "output_type": "execute_result",
          "data": {
            "text/plain": [
              "0.1359598146524228"
            ]
          },
          "metadata": {},
          "execution_count": 368
        }
      ]
    },
    {
      "cell_type": "code",
      "source": [
        "sns.scatterplot(x='price', y='host_acceptance_rate', color=\"red\", data=private)"
      ],
      "metadata": {
        "colab": {
          "base_uri": "https://localhost:8080/",
          "height": 466
        },
        "id": "vIE00f2WRjFx",
        "outputId": "d21a6f22-5f02-4592-d29d-e42e273cd729"
      },
      "execution_count": null,
      "outputs": [
        {
          "output_type": "execute_result",
          "data": {
            "text/plain": [
              "<Axes: xlabel='price', ylabel='host_acceptance_rate'>"
            ]
          },
          "metadata": {},
          "execution_count": 369
        },
        {
          "output_type": "display_data",
          "data": {
            "text/plain": [
              "<Figure size 640x480 with 1 Axes>"
            ],
            "image/png": "[encoded data removed]"
          },
          "metadata": {}
        }
      ]
    },
    {
      "cell_type": "code",
      "source": [
        "Independiente= private[['price']]\n",
        "Dependiente= private['host_acceptance_rate']\n",
        "from sklearn.linear_model import LinearRegression\n",
        "model= LinearRegression()\n",
        "model.fit(X=Independiente, y=Dependiente)\n",
        "model.__dict__"
      ],
      "metadata": {
        "id": "tEjHcy_DYaxt",
        "outputId": "a06d1259-edd0-4842-96f8-329e051d9849",
        "colab": {
          "base_uri": "https://localhost:8080/"
        }
      },
      "execution_count": null,
      "outputs": [
        {
          "output_type": "execute_result",
          "data": {
            "text/plain": [
              "{'fit_intercept': True,\n",
              " 'copy_X': True,\n",
              " 'n_jobs': None,\n",
              " 'positive': False,\n",
              " 'feature_names_in_': array(['price'], dtype=object),\n",
              " 'n_features_in_': 1,\n",
              " 'coef_': array([-4.58512387e-06]),\n",
              " 'rank_': 1,\n",
              " 'singular_': array([2160830.41606824]),\n",
              " 'intercept_': 87.3662175450093}"
            ]
          },
          "metadata": {},
          "execution_count": 370
        }
      ]
    },
    {
      "cell_type": "markdown",
      "source": [
        "host_acceptance_rate (private) = -4.59x + 87.36"
      ],
      "metadata": {
        "id": "hh5dthWbsMbs"
      }
    },
    {
      "cell_type": "code",
      "source": [
        "coef_Deter2=model.score(X=Independiente, y=Dependiente)\n",
        "coef_Deter2"
      ],
      "metadata": {
        "colab": {
          "base_uri": "https://localhost:8080/"
        },
        "id": "Mf2jMHAbofx-",
        "outputId": "6688580a-c9f9-40ba-a53b-3408f4b9c5d3"
      },
      "execution_count": null,
      "outputs": [
        {
          "output_type": "execute_result",
          "data": {
            "text/plain": [
              "1.8379551628644464e-05"
            ]
          },
          "metadata": {},
          "execution_count": 371
        }
      ]
    },
    {
      "cell_type": "code",
      "source": [
        "sns.scatterplot(x='price', y='host_acceptance_rate', color=\"red\", data=shared)"
      ],
      "metadata": {
        "colab": {
          "base_uri": "https://localhost:8080/",
          "height": 466
        },
        "id": "7EdK0JYCF05E",
        "outputId": "be576e92-6960-4707-d919-01068cd93ae2"
      },
      "execution_count": null,
      "outputs": [
        {
          "output_type": "execute_result",
          "data": {
            "text/plain": [
              "<Axes: xlabel='price', ylabel='host_acceptance_rate'>"
            ]
          },
          "metadata": {},
          "execution_count": 372
        },
        {
          "output_type": "display_data",
          "data": {
            "text/plain": [
              "<Figure size 640x480 with 1 Axes>"
            ],
            "image/png": "[encoded data removed]"
          },
          "metadata": {}
        }
      ]
    },
    {
      "cell_type": "code",
      "source": [
        "Independiente= shared[['price']]\n",
        "Dependiente= shared['host_acceptance_rate']\n",
        "from sklearn.linear_model import LinearRegression\n",
        "model= LinearRegression()\n",
        "model.fit(X=Independiente, y=Dependiente)\n",
        "model.__dict__"
      ],
      "metadata": {
        "colab": {
          "base_uri": "https://localhost:8080/"
        },
        "id": "gyWHukNnF55H",
        "outputId": "b834a38f-b1b6-414c-b0f0-aa26a1a844dd"
      },
      "execution_count": null,
      "outputs": [
        {
          "output_type": "execute_result",
          "data": {
            "text/plain": [
              "{'fit_intercept': True,\n",
              " 'copy_X': True,\n",
              " 'n_jobs': None,\n",
              " 'positive': False,\n",
              " 'feature_names_in_': array(['price'], dtype=object),\n",
              " 'n_features_in_': 1,\n",
              " 'coef_': array([0.0007114]),\n",
              " 'rank_': 1,\n",
              " 'singular_': array([43699.26481985]),\n",
              " 'intercept_': 83.11652894771984}"
            ]
          },
          "metadata": {},
          "execution_count": 373
        }
      ]
    },
    {
      "cell_type": "markdown",
      "source": [
        "host_acceptance_rate (shared) = 0.0007x + 83.12"
      ],
      "metadata": {
        "id": "4BS3CnNVsBjR"
      }
    },
    {
      "cell_type": "code",
      "source": [
        "coef_Deter22=model.score(X=Independiente, y=Dependiente)\n",
        "coef_Deter22"
      ],
      "metadata": {
        "colab": {
          "base_uri": "https://localhost:8080/"
        },
        "id": "9bNjIQsXoi-y",
        "outputId": "c869ba3e-e162-441c-d690-39e703237037"
      },
      "execution_count": null,
      "outputs": [
        {
          "output_type": "execute_result",
          "data": {
            "text/plain": [
              "0.004493855318530637"
            ]
          },
          "metadata": {},
          "execution_count": 374
        }
      ]
    },
    {
      "cell_type": "code",
      "source": [
        "sns.scatterplot(x='number_of_reviews', y='host_acceptance_rate', color=\"orange\", data=private)"
      ],
      "metadata": {
        "id": "RZkJE1vcYkAO",
        "colab": {
          "base_uri": "https://localhost:8080/",
          "height": 467
        },
        "outputId": "472feeda-e0ba-4a25-8218-9131e8deaa44"
      },
      "execution_count": null,
      "outputs": [
        {
          "output_type": "execute_result",
          "data": {
            "text/plain": [
              "<Axes: xlabel='number_of_reviews', ylabel='host_acceptance_rate'>"
            ]
          },
          "metadata": {},
          "execution_count": 375
        },
        {
          "output_type": "display_data",
          "data": {
            "text/plain": [
              "<Figure size 640x480 with 1 Axes>"
            ],
            "image/png": "[encoded data removed]"
          },
          "metadata": {}
        }
      ]
    },
    {
      "cell_type": "code",
      "source": [
        "Independiente = private[['number_of_reviews']]\n",
        "Dependiente = private['host_acceptance_rate']\n",
        "from sklearn.linear_model import LinearRegression\n",
        "model= LinearRegression()\n",
        "model.fit(X=Independiente, y=Dependiente)\n",
        "model.__dict__"
      ],
      "metadata": {
        "colab": {
          "base_uri": "https://localhost:8080/"
        },
        "id": "PhpGt-wgCHb6",
        "outputId": "5f3e15fb-fd2b-4aa3-da2e-abb0dd4318d2"
      },
      "execution_count": null,
      "outputs": [
        {
          "output_type": "execute_result",
          "data": {
            "text/plain": [
              "{'fit_intercept': True,\n",
              " 'copy_X': True,\n",
              " 'n_jobs': None,\n",
              " 'positive': False,\n",
              " 'feature_names_in_': array(['number_of_reviews'], dtype=object),\n",
              " 'n_features_in_': 1,\n",
              " 'coef_': array([0.05583141]),\n",
              " 'rank_': 1,\n",
              " 'singular_': array([5203.65954966]),\n",
              " 'intercept_': 85.91439095508184}"
            ]
          },
          "metadata": {},
          "execution_count": 376
        }
      ]
    },
    {
      "cell_type": "markdown",
      "source": [
        "host_acceptance_rate (private) = 0.05x + 85.91"
      ],
      "metadata": {
        "id": "fek7uQWFr8AP"
      }
    },
    {
      "cell_type": "code",
      "source": [
        "coef_Deter3=model.score(X=Independiente, y=Dependiente)\n",
        "coef_Deter3"
      ],
      "metadata": {
        "colab": {
          "base_uri": "https://localhost:8080/"
        },
        "id": "_KAb2AUtokq6",
        "outputId": "26fd9c39-97b5-4d03-a6a7-d0ecbc484408"
      },
      "execution_count": null,
      "outputs": [
        {
          "output_type": "execute_result",
          "data": {
            "text/plain": [
              "0.015803973796510218"
            ]
          },
          "metadata": {},
          "execution_count": 377
        }
      ]
    },
    {
      "cell_type": "code",
      "source": [
        "sns.scatterplot(x='number_of_reviews', y='host_acceptance_rate',color=\"orange\", data=shared)"
      ],
      "metadata": {
        "colab": {
          "base_uri": "https://localhost:8080/",
          "height": 467
        },
        "id": "HbS81kXxCS9X",
        "outputId": "00a704c9-b799-4da8-bf76-eec6663f49f6"
      },
      "execution_count": null,
      "outputs": [
        {
          "output_type": "execute_result",
          "data": {
            "text/plain": [
              "<Axes: xlabel='number_of_reviews', ylabel='host_acceptance_rate'>"
            ]
          },
          "metadata": {},
          "execution_count": 378
        },
        {
          "output_type": "display_data",
          "data": {
            "text/plain": [
              "<Figure size 640x480 with 1 Axes>"
            ],
            "image/png": "[encoded data removed]"
          },
          "metadata": {}
        }
      ]
    },
    {
      "cell_type": "code",
      "source": [
        "Independiente = shared[['number_of_reviews']]\n",
        "Dependiente = shared['host_acceptance_rate']\n",
        "from sklearn.linear_model import LinearRegression\n",
        "model= LinearRegression()\n",
        "model.fit(X=Independiente, y=Dependiente)\n",
        "model.__dict__"
      ],
      "metadata": {
        "colab": {
          "base_uri": "https://localhost:8080/"
        },
        "id": "nEtFzabrCvZ4",
        "outputId": "7a239510-a4e9-42e8-f42c-5699371eea95"
      },
      "execution_count": null,
      "outputs": [
        {
          "output_type": "execute_result",
          "data": {
            "text/plain": [
              "{'fit_intercept': True,\n",
              " 'copy_X': True,\n",
              " 'n_jobs': None,\n",
              " 'positive': False,\n",
              " 'feature_names_in_': array(['number_of_reviews'], dtype=object),\n",
              " 'n_features_in_': 1,\n",
              " 'coef_': array([0.29904021]),\n",
              " 'rank_': 1,\n",
              " 'singular_': array([309.01946657]),\n",
              " 'intercept_': 81.25892792490833}"
            ]
          },
          "metadata": {},
          "execution_count": 379
        }
      ]
    },
    {
      "cell_type": "markdown",
      "source": [
        "host_acceptance_rate (shared) = 0.299x + 81.26"
      ],
      "metadata": {
        "id": "qlvAuQgErjXa"
      }
    },
    {
      "cell_type": "code",
      "source": [
        "coef_Deter33=model.score(X=Independiente, y=Dependiente)\n",
        "coef_Deter33"
      ],
      "metadata": {
        "colab": {
          "base_uri": "https://localhost:8080/"
        },
        "id": "3YTgnWMRomS9",
        "outputId": "2e5bf9df-8630-446d-b321-dca3ba55bb59"
      },
      "execution_count": null,
      "outputs": [
        {
          "output_type": "execute_result",
          "data": {
            "text/plain": [
              "0.039707907678485754"
            ]
          },
          "metadata": {},
          "execution_count": 380
        }
      ]
    },
    {
      "cell_type": "code",
      "source": [
        "sns.scatterplot(x='review_scores_cleanliness', y='review_scores_location', color=\"purple\", data=private)"
      ],
      "metadata": {
        "colab": {
          "base_uri": "https://localhost:8080/",
          "height": 467
        },
        "id": "L061JxfZF_Z_",
        "outputId": "d4e54cd2-f2b2-40b1-bf7d-458fa478cd85"
      },
      "execution_count": null,
      "outputs": [
        {
          "output_type": "execute_result",
          "data": {
            "text/plain": [
              "<Axes: xlabel='review_scores_cleanliness', ylabel='review_scores_location'>"
            ]
          },
          "metadata": {},
          "execution_count": 381
        },
        {
          "output_type": "display_data",
          "data": {
            "text/plain": [
              "<Figure size 640x480 with 1 Axes>"
            ],
            "image/png": "[encoded data removed]"
          },
          "metadata": {}
        }
      ]
    },
    {
      "cell_type": "code",
      "source": [
        "Independiente = private[['review_scores_cleanliness']]\n",
        "Dependiente = private['review_scores_location']\n",
        "from sklearn.linear_model import LinearRegression\n",
        "model= LinearRegression()\n",
        "model.fit(X=Independiente, y=Dependiente)\n",
        "model.__dict__"
      ],
      "metadata": {
        "colab": {
          "base_uri": "https://localhost:8080/"
        },
        "id": "ph2MzSzDHHlt",
        "outputId": "d77a4139-0ad0-4389-de56-30955edb08b1"
      },
      "execution_count": null,
      "outputs": [
        {
          "output_type": "execute_result",
          "data": {
            "text/plain": [
              "{'fit_intercept': True,\n",
              " 'copy_X': True,\n",
              " 'n_jobs': None,\n",
              " 'positive': False,\n",
              " 'feature_names_in_': array(['review_scores_cleanliness'], dtype=object),\n",
              " 'n_features_in_': 1,\n",
              " 'coef_': array([0.64595306]),\n",
              " 'rank_': 1,\n",
              " 'singular_': array([49.57506174]),\n",
              " 'intercept_': 1.765208445014344}"
            ]
          },
          "metadata": {},
          "execution_count": 382
        }
      ]
    },
    {
      "cell_type": "markdown",
      "source": [
        "review_scores_location (private) = 0.64x + 1.77"
      ],
      "metadata": {
        "id": "yPtMYAx_q8-2"
      }
    },
    {
      "cell_type": "code",
      "source": [
        "coef_Deter4=model.score(X=Independiente, y=Dependiente)\n",
        "coef_Deter4"
      ],
      "metadata": {
        "colab": {
          "base_uri": "https://localhost:8080/"
        },
        "id": "ileWmy8YonxN",
        "outputId": "8aa60fb9-d956-46c0-b53a-745ed661ed32"
      },
      "execution_count": null,
      "outputs": [
        {
          "output_type": "execute_result",
          "data": {
            "text/plain": [
              "0.5411401738683872"
            ]
          },
          "metadata": {},
          "execution_count": 383
        }
      ]
    },
    {
      "cell_type": "code",
      "source": [
        "sns.scatterplot(x='review_scores_cleanliness', y='review_scores_location',color=\"orange\", data=shared)"
      ],
      "metadata": {
        "colab": {
          "base_uri": "https://localhost:8080/",
          "height": 467
        },
        "id": "RP16dLwNHJZ0",
        "outputId": "13c60995-9c42-48ac-d775-65fb92da4d69"
      },
      "execution_count": null,
      "outputs": [
        {
          "output_type": "execute_result",
          "data": {
            "text/plain": [
              "<Axes: xlabel='review_scores_cleanliness', ylabel='review_scores_location'>"
            ]
          },
          "metadata": {},
          "execution_count": 384
        },
        {
          "output_type": "display_data",
          "data": {
            "text/plain": [
              "<Figure size 640x480 with 1 Axes>"
            ],
            "image/png": "[encoded data removed]"
          },
          "metadata": {}
        }
      ]
    },
    {
      "cell_type": "code",
      "source": [
        "Independiente = shared[['review_scores_cleanliness']]\n",
        "Dependiente = shared['review_scores_location']\n",
        "from sklearn.linear_model import LinearRegression\n",
        "model= LinearRegression()\n",
        "model.fit(X=Independiente, y=Dependiente)\n",
        "model.__dict__"
      ],
      "metadata": {
        "colab": {
          "base_uri": "https://localhost:8080/"
        },
        "id": "LMZs8MhWHLT9",
        "outputId": "a6fc6729-a08b-4df4-9562-a55c3f5b34ed"
      },
      "execution_count": null,
      "outputs": [
        {
          "output_type": "execute_result",
          "data": {
            "text/plain": [
              "{'fit_intercept': True,\n",
              " 'copy_X': True,\n",
              " 'n_jobs': None,\n",
              " 'positive': False,\n",
              " 'feature_names_in_': array(['review_scores_cleanliness'], dtype=object),\n",
              " 'n_features_in_': 1,\n",
              " 'coef_': array([0.82463925]),\n",
              " 'rank_': 1,\n",
              " 'singular_': array([14.4909896]),\n",
              " 'intercept_': 0.926344981696114}"
            ]
          },
          "metadata": {},
          "execution_count": 385
        }
      ]
    },
    {
      "cell_type": "markdown",
      "source": [
        "review_scores_location (shared) = 0.82x + 0.93"
      ],
      "metadata": {
        "id": "RZ6BuIDMqx59"
      }
    },
    {
      "cell_type": "code",
      "source": [
        "coef_Deter44=model.score(X=Independiente, y=Dependiente)\n",
        "coef_Deter44"
      ],
      "metadata": {
        "colab": {
          "base_uri": "https://localhost:8080/"
        },
        "id": "vY-QWmFoopbF",
        "outputId": "ece5891b-f33d-46cc-aced-8912b19e8fb9"
      },
      "execution_count": null,
      "outputs": [
        {
          "output_type": "execute_result",
          "data": {
            "text/plain": [
              "0.7791589389989577"
            ]
          },
          "metadata": {},
          "execution_count": 386
        }
      ]
    },
    {
      "cell_type": "markdown",
      "source": [
        "review_scores_location"
      ],
      "metadata": {
        "id": "aV7DmosIqXtB"
      }
    },
    {
      "cell_type": "code",
      "source": [
        "sns.scatterplot(x='number_of_reviews', y='availability_365', color=\"green\", data=private)"
      ],
      "metadata": {
        "colab": {
          "base_uri": "https://localhost:8080/",
          "height": 467
        },
        "id": "KXSGx0DRHk97",
        "outputId": "ca3a844d-7302-426b-be08-706a65dc5ead"
      },
      "execution_count": null,
      "outputs": [
        {
          "output_type": "execute_result",
          "data": {
            "text/plain": [
              "<Axes: xlabel='number_of_reviews', ylabel='availability_365'>"
            ]
          },
          "metadata": {},
          "execution_count": 387
        },
        {
          "output_type": "display_data",
          "data": {
            "text/plain": [
              "<Figure size 640x480 with 1 Axes>"
            ],
            "image/png": "[encoded data removed]"
          },
          "metadata": {}
        }
      ]
    },
    {
      "cell_type": "code",
      "source": [
        "Independiente= private[['number_of_reviews']]\n",
        "Dependiente= private['availability_365']\n",
        "from sklearn.linear_model import LinearRegression\n",
        "model= LinearRegression()\n",
        "model.fit(X=Independiente, y=Dependiente)\n",
        "model.__dict__"
      ],
      "metadata": {
        "colab": {
          "base_uri": "https://localhost:8080/"
        },
        "id": "coW70rSUHlVl",
        "outputId": "1ed6ee40-361d-46e4-ab20-6f0f4fc40ff7"
      },
      "execution_count": null,
      "outputs": [
        {
          "output_type": "execute_result",
          "data": {
            "text/plain": [
              "{'fit_intercept': True,\n",
              " 'copy_X': True,\n",
              " 'n_jobs': None,\n",
              " 'positive': False,\n",
              " 'feature_names_in_': array(['number_of_reviews'], dtype=object),\n",
              " 'n_features_in_': 1,\n",
              " 'coef_': array([-0.09364539]),\n",
              " 'rank_': 1,\n",
              " 'singular_': array([5203.65954966]),\n",
              " 'intercept_': 255.47449731231168}"
            ]
          },
          "metadata": {},
          "execution_count": 388
        }
      ]
    },
    {
      "cell_type": "code",
      "source": [
        "coef_Deter5=model.score(X=Independiente, y=Dependiente)\n",
        "coef_Deter5"
      ],
      "metadata": {
        "colab": {
          "base_uri": "https://localhost:8080/"
        },
        "id": "5kUg2dUiorK9",
        "outputId": "abe046b1-011d-4e2f-812d-11ed246fcf96"
      },
      "execution_count": null,
      "outputs": [
        {
          "output_type": "execute_result",
          "data": {
            "text/plain": [
              "0.001848740094272383"
            ]
          },
          "metadata": {},
          "execution_count": 389
        }
      ]
    },
    {
      "cell_type": "markdown",
      "source": [
        "availability ( private) = -0.09x + 255.48"
      ],
      "metadata": {
        "id": "iaW4S2ODqM8s"
      }
    },
    {
      "cell_type": "code",
      "source": [
        "sns.scatterplot(x='number_of_reviews', y='availability_365', color =\"green\", data=shared)"
      ],
      "metadata": {
        "colab": {
          "base_uri": "https://localhost:8080/",
          "height": 467
        },
        "id": "gpZ5YItIHlnh",
        "outputId": "0c328ce0-2c3a-47ff-c23b-0d7df691f8c0"
      },
      "execution_count": null,
      "outputs": [
        {
          "output_type": "execute_result",
          "data": {
            "text/plain": [
              "<Axes: xlabel='number_of_reviews', ylabel='availability_365'>"
            ]
          },
          "metadata": {},
          "execution_count": 390
        },
        {
          "output_type": "display_data",
          "data": {
            "text/plain": [
              "<Figure size 640x480 with 1 Axes>"
            ],
            "image/png": "[encoded data removed]"
          },
          "metadata": {}
        }
      ]
    },
    {
      "cell_type": "code",
      "source": [
        "Independiente = shared[['number_of_reviews']]\n",
        "Dependiente = shared['availability_365']\n",
        "from sklearn.linear_model import LinearRegression\n",
        "model= LinearRegression()\n",
        "model.fit(X=Independiente, y=Dependiente)\n",
        "model.__dict__"
      ],
      "metadata": {
        "colab": {
          "base_uri": "https://localhost:8080/"
        },
        "id": "MIpbywLOHltQ",
        "outputId": "10127c4a-2a14-4ee9-a315-180cfc398275"
      },
      "execution_count": null,
      "outputs": [
        {
          "output_type": "execute_result",
          "data": {
            "text/plain": [
              "{'fit_intercept': True,\n",
              " 'copy_X': True,\n",
              " 'n_jobs': None,\n",
              " 'positive': False,\n",
              " 'feature_names_in_': array(['number_of_reviews'], dtype=object),\n",
              " 'n_features_in_': 1,\n",
              " 'coef_': array([-0.22117208]),\n",
              " 'rank_': 1,\n",
              " 'singular_': array([309.01946657]),\n",
              " 'intercept_': 297.8061064299387}"
            ]
          },
          "metadata": {},
          "execution_count": 391
        }
      ]
    },
    {
      "cell_type": "code",
      "source": [
        "coef_Deter55=model.score(X=Independiente, y=Dependiente)\n",
        "coef_Deter55"
      ],
      "metadata": {
        "colab": {
          "base_uri": "https://localhost:8080/"
        },
        "id": "N2FIbnOiosrS",
        "outputId": "83691c8d-9645-4a13-d518-6c9880e07733"
      },
      "execution_count": null,
      "outputs": [
        {
          "output_type": "execute_result",
          "data": {
            "text/plain": [
              "0.0013880801890647776"
            ]
          },
          "metadata": {},
          "execution_count": 392
        }
      ]
    },
    {
      "cell_type": "markdown",
      "source": [
        "availiability = -0.22x + 297.81"
      ],
      "metadata": {
        "id": "JcQu-HpmqGLP"
      }
    },
    {
      "cell_type": "code",
      "source": [
        "sns.scatterplot(x='review_scores_communication', y='reviews_per_month', color =\"yellow\", data=private)"
      ],
      "metadata": {
        "colab": {
          "base_uri": "https://localhost:8080/",
          "height": 469
        },
        "id": "2tusx8KbIENk",
        "outputId": "3db9fa48-3505-44da-d191-cd76f727c110"
      },
      "execution_count": null,
      "outputs": [
        {
          "output_type": "execute_result",
          "data": {
            "text/plain": [
              "<Axes: xlabel='review_scores_communication', ylabel='reviews_per_month'>"
            ]
          },
          "metadata": {},
          "execution_count": 393
        },
        {
          "output_type": "display_data",
          "data": {
            "text/plain": [
              "<Figure size 640x480 with 1 Axes>"
            ],
            "image/png": "[encoded data removed]"
          },
          "metadata": {}
        }
      ]
    },
    {
      "cell_type": "code",
      "source": [
        "Independiente= private[['review_scores_communication']]\n",
        "Dependiente = private['reviews_per_month']\n",
        "from sklearn.linear_model import LinearRegression\n",
        "model= LinearRegression()\n",
        "model.fit(X=Independiente, y=Dependiente)\n",
        "model.__dict__"
      ],
      "metadata": {
        "colab": {
          "base_uri": "https://localhost:8080/"
        },
        "id": "Ymv_CNKPIEUX",
        "outputId": "c6329386-742f-4fe3-b0e8-9b0fa96ae119"
      },
      "execution_count": null,
      "outputs": [
        {
          "output_type": "execute_result",
          "data": {
            "text/plain": [
              "{'fit_intercept': True,\n",
              " 'copy_X': True,\n",
              " 'n_jobs': None,\n",
              " 'positive': False,\n",
              " 'feature_names_in_': array(['review_scores_communication'], dtype=object),\n",
              " 'n_features_in_': 1,\n",
              " 'coef_': array([0.19186247]),\n",
              " 'rank_': 1,\n",
              " 'singular_': array([48.27812325]),\n",
              " 'intercept_': 0.48394579084360057}"
            ]
          },
          "metadata": {},
          "execution_count": 394
        }
      ]
    },
    {
      "cell_type": "code",
      "source": [
        "coef_Deter6=model.score(X=Independiente, y=Dependiente)\n",
        "coef_Deter6"
      ],
      "metadata": {
        "colab": {
          "base_uri": "https://localhost:8080/"
        },
        "id": "H6dPMEGkou7K",
        "outputId": "b1b9ce14-c624-45c3-e121-97be8b14983d"
      },
      "execution_count": null,
      "outputs": [
        {
          "output_type": "execute_result",
          "data": {
            "text/plain": [
              "0.002548313424778015"
            ]
          },
          "metadata": {},
          "execution_count": 395
        }
      ]
    },
    {
      "cell_type": "markdown",
      "source": [
        "review_per_month (private) = 0.19x + 0.48"
      ],
      "metadata": {
        "id": "u16HoBDKpuUx"
      }
    },
    {
      "cell_type": "code",
      "source": [
        "sns.scatterplot(x='review_scores_communication', y='reviews_per_month', color=\"yellow\", data=shared)"
      ],
      "metadata": {
        "colab": {
          "base_uri": "https://localhost:8080/",
          "height": 467
        },
        "id": "J7K3CLsSIEjp",
        "outputId": "8ac1e753-1cdd-473e-80bb-5b55c59228ee"
      },
      "execution_count": null,
      "outputs": [
        {
          "output_type": "execute_result",
          "data": {
            "text/plain": [
              "<Axes: xlabel='review_scores_communication', ylabel='reviews_per_month'>"
            ]
          },
          "metadata": {},
          "execution_count": 396
        },
        {
          "output_type": "display_data",
          "data": {
            "text/plain": [
              "<Figure size 640x480 with 1 Axes>"
            ],
            "image/png": "[encoded data removed]"
          },
          "metadata": {}
        }
      ]
    },
    {
      "cell_type": "code",
      "source": [
        "Independiente = shared[['review_scores_communication']]\n",
        "Dependiente = shared['reviews_per_month']\n",
        "from sklearn.linear_model import LinearRegression\n",
        "model= LinearRegression()\n",
        "model.fit(X=Independiente , y=Dependiente )\n",
        "model.__dict__"
      ],
      "metadata": {
        "colab": {
          "base_uri": "https://localhost:8080/"
        },
        "id": "k8lL5xhIIEqe",
        "outputId": "0be7a664-4513-4786-b0b0-b9f230b806c0"
      },
      "execution_count": null,
      "outputs": [
        {
          "output_type": "execute_result",
          "data": {
            "text/plain": [
              "{'fit_intercept': True,\n",
              " 'copy_X': True,\n",
              " 'n_jobs': None,\n",
              " 'positive': False,\n",
              " 'feature_names_in_': array(['review_scores_communication'], dtype=object),\n",
              " 'n_features_in_': 1,\n",
              " 'coef_': array([0.29703603]),\n",
              " 'rank_': 1,\n",
              " 'singular_': array([14.44939766]),\n",
              " 'intercept_': -0.17401599585910565}"
            ]
          },
          "metadata": {},
          "execution_count": 397
        }
      ]
    },
    {
      "cell_type": "code",
      "source": [
        "coef_Deter66=model.score(X=Independiente, y=Dependiente)\n",
        "coef_Deter66"
      ],
      "metadata": {
        "colab": {
          "base_uri": "https://localhost:8080/"
        },
        "id": "Ubqz2HrEoJtc",
        "outputId": "43f151cd-bd7d-4582-e458-e16f2aa795ba"
      },
      "execution_count": null,
      "outputs": [
        {
          "output_type": "execute_result",
          "data": {
            "text/plain": [
              "0.02479876952277027"
            ]
          },
          "metadata": {},
          "execution_count": 398
        }
      ]
    },
    {
      "cell_type": "markdown",
      "source": [
        "reviews_per_month (shared) = 0.29x -0.17"
      ],
      "metadata": {
        "id": "SEobaj4qpkym"
      }
    },
    {
      "cell_type": "code",
      "source": [
        "datos = {\n",
        "    'coef': ['coef_Deter', 'coef_Deter11', 'coef_Deter2','coef_Deter22', 'coef_Deter3', 'coef_Deter33', 'coef_Deter4', 'coef_Deter44', 'coef_Deter5', 'coef_Deter55', 'coef_Deter6', 'coef_Deter66'],\n",
        "    'coeficiente': [0.11, 0.14, 0.000018, 0.0045, 0.016, 0.039, 0.54, 0.77, 0.0019, 0.0013, 0.0025, 0.024]\n",
        "}\n",
        "dff = pd.DataFrame(datos)\n",
        "dff"
      ],
      "metadata": {
        "colab": {
          "base_uri": "https://localhost:8080/",
          "height": 425
        },
        "id": "fod-U70gsfXN",
        "outputId": "a761d44b-10d6-456d-85d2-8f6918453ae5"
      },
      "execution_count": 401,
      "outputs": [
        {
          "output_type": "execute_result",
          "data": {
            "text/plain": [
              "            coef  coeficiente\n",
              "0     coef_Deter     0.110000\n",
              "1   coef_Deter11     0.140000\n",
              "2    coef_Deter2     0.000018\n",
              "3   coef_Deter22     0.004500\n",
              "4    coef_Deter3     0.016000\n",
              "5   coef_Deter33     0.039000\n",
              "6    coef_Deter4     0.540000\n",
              "7   coef_Deter44     0.770000\n",
              "8    coef_Deter5     0.001900\n",
              "9   coef_Deter55     0.001300\n",
              "10   coef_Deter6     0.002500\n",
              "11  coef_Deter66     0.024000"
            ],
            "text/html": [
              "\n",
              "  <div id=\"df-e79d98cf-3cb6-4169-801b-096fefd46b62\" class=\"colab-df-container\">\n",
              "    <div>\n",
              "<style scoped>\n",
              "    .dataframe tbody tr th:only-of-type {\n",
              "        vertical-align: middle;\n",
              "    }\n",
              "\n",
              "    .dataframe tbody tr th {\n",
              "        vertical-align: top;\n",
              "    }\n",
              "\n",
              "    .dataframe thead th {\n",
              "        text-align: right;\n",
              "    }\n",
              "</style>\n",
              "<table border=\"1\" class=\"dataframe\">\n",
              "  <thead>\n",
              "    <tr style=\"text-align: right;\">\n",
              "      <th></th>\n",
              "      <th>coef</th>\n",
              "      <th>coeficiente</th>\n",
              "    </tr>\n",
              "  </thead>\n",
              "  <tbody>\n",
              "    <tr>\n",
              "      <th>0</th>\n",
              "      <td>coef_Deter</td>\n",
              "      <td>0.110000</td>\n",
              "    </tr>\n",
              "    <tr>\n",
              "      <th>1</th>\n",
              "      <td>coef_Deter11</td>\n",
              "      <td>0.140000</td>\n",
              "    </tr>\n",
              "    <tr>\n",
              "      <th>2</th>\n",
              "      <td>coef_Deter2</td>\n",
              "      <td>0.000018</td>\n",
              "    </tr>\n",
              "    <tr>\n",
              "      <th>3</th>\n",
              "      <td>coef_Deter22</td>\n",
              "      <td>0.004500</td>\n",
              "    </tr>\n",
              "    <tr>\n",
              "      <th>4</th>\n",
              "      <td>coef_Deter3</td>\n",
              "      <td>0.016000</td>\n",
              "    </tr>\n",
              "    <tr>\n",
              "      <th>5</th>\n",
              "      <td>coef_Deter33</td>\n",
              "      <td>0.039000</td>\n",
              "    </tr>\n",
              "    <tr>\n",
              "      <th>6</th>\n",
              "      <td>coef_Deter4</td>\n",
              "      <td>0.540000</td>\n",
              "    </tr>\n",
              "    <tr>\n",
              "      <th>7</th>\n",
              "      <td>coef_Deter44</td>\n",
              "      <td>0.770000</td>\n",
              "    </tr>\n",
              "    <tr>\n",
              "      <th>8</th>\n",
              "      <td>coef_Deter5</td>\n",
              "      <td>0.001900</td>\n",
              "    </tr>\n",
              "    <tr>\n",
              "      <th>9</th>\n",
              "      <td>coef_Deter55</td>\n",
              "      <td>0.001300</td>\n",
              "    </tr>\n",
              "    <tr>\n",
              "      <th>10</th>\n",
              "      <td>coef_Deter6</td>\n",
              "      <td>0.002500</td>\n",
              "    </tr>\n",
              "    <tr>\n",
              "      <th>11</th>\n",
              "      <td>coef_Deter66</td>\n",
              "      <td>0.024000</td>\n",
              "    </tr>\n",
              "  </tbody>\n",
              "</table>\n",
              "</div>\n",
              "    <div class=\"colab-df-buttons\">\n",
              "\n",
              "  <div class=\"colab-df-container\">\n",
              "    <button class=\"colab-df-convert\" onclick=\"convertToInteractive('df-e79d98cf-3cb6-4169-801b-096fefd46b62')\"\n",
              "            title=\"Convert this dataframe to an interactive table.\"\n",
              "            style=\"display:none;\">\n",
              "\n",
              "  <svg xmlns=\"http://www.w3.org/2000/svg\" height=\"24px\" viewBox=\"0 -960 960 960\">\n",
              "    <path d=\"M120-120v-720h720v720H120Zm60-500h600v-160H180v160Zm220 220h160v-160H400v160Zm0 220h160v-160H400v160ZM180-400h160v-160H180v160Zm440 0h160v-160H620v160ZM180-180h160v-160H180v160Zm440 0h160v-160H620v160Z\"/>\n",
              "  </svg>\n",
              "    </button>\n",
              "\n",
              "  <style>\n",
              "    .colab-df-container {\n",
              "      display:flex;\n",
              "      gap: 12px;\n",
              "    }\n",
              "\n",
              "    .colab-df-convert {\n",
              "      background-color: #E8F0FE;\n",
              "      border: none;\n",
              "      border-radius: 50%;\n",
              "      cursor: pointer;\n",
              "      display: none;\n",
              "      fill: #1967D2;\n",
              "      height: 32px;\n",
              "      padding: 0 0 0 0;\n",
              "      width: 32px;\n",
              "    }\n",
              "\n",
              "    .colab-df-convert:hover {\n",
              "      background-color: #E2EBFA;\n",
              "      box-shadow: 0px 1px 2px rgba(60, 64, 67, 0.3), 0px 1px 3px 1px rgba(60, 64, 67, 0.15);\n",
              "      fill: #174EA6;\n",
              "    }\n",
              "\n",
              "    .colab-df-buttons div {\n",
              "      margin-bottom: 4px;\n",
              "    }\n",
              "\n",
              "    [theme=dark] .colab-df-convert {\n",
              "      background-color: #3B4455;\n",
              "      fill: #D2E3FC;\n",
              "    }\n",
              "\n",
              "    [theme=dark] .colab-df-convert:hover {\n",
              "      background-color: #434B5C;\n",
              "      box-shadow: 0px 1px 3px 1px rgba(0, 0, 0, 0.15);\n",
              "      filter: drop-shadow(0px 1px 2px rgba(0, 0, 0, 0.3));\n",
              "      fill: #FFFFFF;\n",
              "    }\n",
              "  </style>\n",
              "\n",
              "    <script>\n",
              "      const buttonEl =\n",
              "        document.querySelector('#df-e79d98cf-3cb6-4169-801b-096fefd46b62 button.colab-df-convert');\n",
              "      buttonEl.style.display =\n",
              "        google.colab.kernel.accessAllowed ? 'block' : 'none';\n",
              "\n",
              "      async function convertToInteractive(key) {\n",
              "        const element = document.querySelector('#df-e79d98cf-3cb6-4169-801b-096fefd46b62');\n",
              "        const dataTable =\n",
              "          await google.colab.kernel.invokeFunction('convertToInteractive',\n",
              "                                                    [key], {});\n",
              "        if (!dataTable) return;\n",
              "\n",
              "        const docLinkHtml = 'Like what you see? Visit the ' +\n",
              "          '<a target=\"_blank\" href=https://colab.research.google.com/notebooks/data_table.ipynb>data table notebook</a>'\n",
              "          + ' to learn more about interactive tables.';\n",
              "        element.innerHTML = '';\n",
              "        dataTable['output_type'] = 'display_data';\n",
              "        await google.colab.output.renderOutput(dataTable, element);\n",
              "        const docLink = document.createElement('div');\n",
              "        docLink.innerHTML = docLinkHtml;\n",
              "        element.appendChild(docLink);\n",
              "      }\n",
              "    </script>\n",
              "  </div>\n",
              "\n",
              "\n",
              "<div id=\"df-88d091d7-fdf6-4db1-b92c-da80059cf4c4\">\n",
              "  <button class=\"colab-df-quickchart\" onclick=\"quickchart('df-88d091d7-fdf6-4db1-b92c-da80059cf4c4')\"\n",
              "            title=\"Suggest charts.\"\n",
              "            style=\"display:none;\">\n",
              "\n",
              "<svg xmlns=\"http://www.w3.org/2000/svg\" height=\"24px\"viewBox=\"0 0 24 24\"\n",
              "     width=\"24px\">\n",
              "    <g>\n",
              "        <path d=\"M19 3H5c-1.1 0-2 .9-2 2v14c0 1.1.9 2 2 2h14c1.1 0 2-.9 2-2V5c0-1.1-.9-2-2-2zM9 17H7v-7h2v7zm4 0h-2V7h2v10zm4 0h-2v-4h2v4z\"/>\n",
              "    </g>\n",
              "</svg>\n",
              "  </button>\n",
              "\n",
              "<style>\n",
              "  .colab-df-quickchart {\n",
              "      --bg-color: #E8F0FE;\n",
              "      --fill-color: #1967D2;\n",
              "      --hover-bg-color: #E2EBFA;\n",
              "      --hover-fill-color: #174EA6;\n",
              "      --disabled-fill-color: #AAA;\n",
              "      --disabled-bg-color: #DDD;\n",
              "  }\n",
              "\n",
              "  [theme=dark] .colab-df-quickchart {\n",
              "      --bg-color: #3B4455;\n",
              "      --fill-color: #D2E3FC;\n",
              "      --hover-bg-color: #434B5C;\n",
              "      --hover-fill-color: #FFFFFF;\n",
              "      --disabled-bg-color: #3B4455;\n",
              "      --disabled-fill-color: #666;\n",
              "  }\n",
              "\n",
              "  .colab-df-quickchart {\n",
              "    background-color: var(--bg-color);\n",
              "    border: none;\n",
              "    border-radius: 50%;\n",
              "    cursor: pointer;\n",
              "    display: none;\n",
              "    fill: var(--fill-color);\n",
              "    height: 32px;\n",
              "    padding: 0;\n",
              "    width: 32px;\n",
              "  }\n",
              "\n",
              "  .colab-df-quickchart:hover {\n",
              "    background-color: var(--hover-bg-color);\n",
              "    box-shadow: 0 1px 2px rgba(60, 64, 67, 0.3), 0 1px 3px 1px rgba(60, 64, 67, 0.15);\n",
              "    fill: var(--button-hover-fill-color);\n",
              "  }\n",
              "\n",
              "  .colab-df-quickchart-complete:disabled,\n",
              "  .colab-df-quickchart-complete:disabled:hover {\n",
              "    background-color: var(--disabled-bg-color);\n",
              "    fill: var(--disabled-fill-color);\n",
              "    box-shadow: none;\n",
              "  }\n",
              "\n",
              "  .colab-df-spinner {\n",
              "    border: 2px solid var(--fill-color);\n",
              "    border-color: transparent;\n",
              "    border-bottom-color: var(--fill-color);\n",
              "    animation:\n",
              "      spin 1s steps(1) infinite;\n",
              "  }\n",
              "\n",
              "  @keyframes spin {\n",
              "    0% {\n",
              "      border-color: transparent;\n",
              "      border-bottom-color: var(--fill-color);\n",
              "      border-left-color: var(--fill-color);\n",
              "    }\n",
              "    20% {\n",
              "      border-color: transparent;\n",
              "      border-left-color: var(--fill-color);\n",
              "      border-top-color: var(--fill-color);\n",
              "    }\n",
              "    30% {\n",
              "      border-color: transparent;\n",
              "      border-left-color: var(--fill-color);\n",
              "      border-top-color: var(--fill-color);\n",
              "      border-right-color: var(--fill-color);\n",
              "    }\n",
              "    40% {\n",
              "      border-color: transparent;\n",
              "      border-right-color: var(--fill-color);\n",
              "      border-top-color: var(--fill-color);\n",
              "    }\n",
              "    60% {\n",
              "      border-color: transparent;\n",
              "      border-right-color: var(--fill-color);\n",
              "    }\n",
              "    80% {\n",
              "      border-color: transparent;\n",
              "      border-right-color: var(--fill-color);\n",
              "      border-bottom-color: var(--fill-color);\n",
              "    }\n",
              "    90% {\n",
              "      border-color: transparent;\n",
              "      border-bottom-color: var(--fill-color);\n",
              "    }\n",
              "  }\n",
              "</style>\n",
              "\n",
              "  <script>\n",
              "    async function quickchart(key) {\n",
              "      const quickchartButtonEl =\n",
              "        document.querySelector('#' + key + ' button');\n",
              "      quickchartButtonEl.disabled = true;  // To prevent multiple clicks.\n",
              "      quickchartButtonEl.classList.add('colab-df-spinner');\n",
              "      try {\n",
              "        const charts = await google.colab.kernel.invokeFunction(\n",
              "            'suggestCharts', [key], {});\n",
              "      } catch (error) {\n",
              "        console.error('Error during call to suggestCharts:', error);\n",
              "      }\n",
              "      quickchartButtonEl.classList.remove('colab-df-spinner');\n",
              "      quickchartButtonEl.classList.add('colab-df-quickchart-complete');\n",
              "    }\n",
              "    (() => {\n",
              "      let quickchartButtonEl =\n",
              "        document.querySelector('#df-88d091d7-fdf6-4db1-b92c-da80059cf4c4 button');\n",
              "      quickchartButtonEl.style.display =\n",
              "        google.colab.kernel.accessAllowed ? 'block' : 'none';\n",
              "    })();\n",
              "  </script>\n",
              "</div>\n",
              "    </div>\n",
              "  </div>\n"
            ]
          },
          "metadata": {},
          "execution_count": 401
        }
      ]
    }
  ]
}